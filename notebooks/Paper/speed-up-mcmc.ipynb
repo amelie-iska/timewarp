{
 "cells": [
  {
   "cell_type": "code",
   "execution_count": null,
   "metadata": {},
   "outputs": [],
   "source": [
    "import torch\n",
    "import numpy as np\n",
    "device = torch.device(\"cuda\" if torch.cuda.is_available() else \"cpu\")    \n",
    "\n",
    "import random\n",
    "from collections import defaultdict\n",
    "from dataclasses import dataclass\n",
    "import mdtraj\n",
    "import functools\n",
    "import openmm as mm\n",
    "import simtk.unit as u  # type: ignore [import]\n",
    "import matplotlib.pyplot as plt\n",
    "from bgflow import OpenMMBridge, OpenMMEnergy#, LinLog\n",
    "\n",
    "#from timewarp.sample import sample, main\n",
    "from timewarp.utils.training_utils import load_model\n",
    "from timewarp.datasets import RawMolDynDataset\n",
    "from timewarp.dataloader import (\n",
    "    DenseMolDynBatch,\n",
    "    moldyn_dense_collate_fn,\n",
    ")\n",
    "from itertools import islice\n",
    "import os\n",
    "from utilities.training_utils import set_seed\n",
    "from typing import Optional, List, Union, Tuple,  DefaultDict, Dict\n",
    "from timewarp.utils.energy_utils import get_energy_mean_std, plot_all_energy\n",
    "from simulation.md import (\n",
    "    get_simulation_environment,\n",
    "    compute_energy_and_forces,\n",
    "    compute_energy_and_forces_decomposition,\n",
    "    get_parameters_from_preset, \n",
    "    get_simulation_environment_integrator,\n",
    "    get_simulation_environment_for_force\n",
    ")\n",
    "from timewarp.equivariance.equivariance_transforms import transform_batch\n",
    "from tqdm.auto import tqdm\n",
    "import mdtraj as md\n",
    "from timewarp.utils.tica_utils import tica_features, run_tica, plot_tic01, plot_free_energy\n",
    "\n",
    "plt.rc('font', size=35) \n"
   ]
  },
  {
   "attachments": {},
   "cell_type": "markdown",
   "metadata": {},
   "source": [
    "### The convservative metastable state heuristic might flag peptides that were actually discovered all states. These need to be rerun"
   ]
  },
  {
   "cell_type": "code",
   "execution_count": null,
   "metadata": {},
   "outputs": [],
   "source": [
    "# Load the model\n",
    "\n",
    "# config = torch.load(savefile)[\"training_config\"]\n",
    "step_width = 10000 # config.step_width\n",
    "dataset = '4AA' # config.dataset\n",
    "dataset = '2AA-1-huge'\n",
    "dataset = '4AA-huge'\n",
    "\n",
    "step_width, dataset\n"
   ]
  },
  {
   "cell_type": "code",
   "execution_count": null,
   "metadata": {},
   "outputs": [],
   "source": [
    "# Load the dataset\n",
    "data_type = 'test'\n",
    "data_dir = base_dir + f\".data/simulated-data/trajectory-data/{dataset}/{data_type}\" # train"
   ]
  },
  {
   "cell_type": "code",
   "execution_count": null,
   "metadata": {},
   "outputs": [],
   "source": [
    "def load_trajectory_from_dir(directory_name, protein, stride=1):\n",
    "    directory = os.fsencode(directory_name)\n",
    "    trajectories = []\n",
    "    times = []\n",
    "    for i in range(len(os.listdir(directory))-1):\n",
    "        npz = np.load(directory_name+f\"/{protein}_trajectory_model_{i}.npz\")\n",
    "        trajectories.append(npz['positions'][::stride])\n",
    "        try:\n",
    "            times.append(npz['time'])\n",
    "        except:\n",
    "            pass\n",
    "    return np.concatenate(trajectories, axis=0), np.array(times)"
   ]
  },
  {
   "cell_type": "code",
   "execution_count": null,
   "metadata": {},
   "outputs": [],
   "source": [
    "initial_state = 7\n",
    "model_stride = 1\n",
    "num_md_steps = 10000"
   ]
  },
  {
   "cell_type": "code",
   "execution_count": null,
   "metadata": {},
   "outputs": [],
   "source": [
    "def get_names(directory):\n",
    "    directory = os.fsencode(directory)\n",
    "    proteins = []\n",
    "    for file in os.listdir(directory):\n",
    "        filename = os.fsdecode(file)\n",
    "        if filename.endswith(\".npz\"): \n",
    "            proteins.append(filename[:4])\n",
    "            continue\n",
    "        else:\n",
    "            continue\n",
    "    return proteins"
   ]
  },
  {
   "cell_type": "code",
   "execution_count": null,
   "metadata": {},
   "outputs": [],
   "source": [
    "import arviz as az\n",
    "\n",
    "def ESS(autocorrelations, spacing=1, cut_off_at_zero=True):\n",
    "    if cut_off_at_zero:\n",
    "        steps_until_zero = np.where(autocorrelations<=0)[0][0]\n",
    "    else:\n",
    "        steps_until_zero = -1\n",
    "    Neff = 1/(-1 + 2 * spacing * np.abs(autocorrelations[:steps_until_zero]).sum())\n",
    "    return Neff"
   ]
  },
  {
   "cell_type": "code",
   "execution_count": null,
   "metadata": {
    "scrolled": false
   },
   "outputs": [],
   "source": [
    "# protein: [accetpance, ratio_tic0, ratio_tic1]\n",
    "from scipy.spatial import distance\n",
    "\n",
    "evaluation_outputs = {}\n",
    "initial_state = 1\n",
    "#proteins = get_names(data_dir)\n",
    "proteins = [\"SAEL\", \"RYDT\", \"CSFQ\", \"FALS\", \"CSGS\",\n",
    "    \"LPEM\", \"LYVI\", \"AYTG\", \"VCVS\", \"AAEW\",\n",
    "    \"FKVP\", \"NQFM\", \"DTDL\", \"CTSA\", \"ANYT\",\n",
    "    \"VTST\", \"AWKC\", \"RGSP\", \"AVEK\", \"FIYG\",\n",
    "    \"VLSM\", \"QADY\", \"DQAL\", \"TFFL\", \"FIGE\",\n",
    "    \"KKQF\", \"SLTC\", \"ITQD\", \"DFKS\", \"QDED\"]\n",
    "#proteins = [\"CTSA\", \"DFKS\", \"DTDL\", \"KKQF\"]\n",
    "proteins.sort()\n",
    "for protein in tqdm(proteins):\n",
    "    sampled_coords, times=load_trajectory_from_dir(dir_data, protein, model_stride)\n",
    "    if len(sampled_coords) < 1900000:\n",
    "        print(f\"{protein} trajectory not finished\")\n",
    "        assert False\n",
    "    npz_traj = np.load(base_dir + f'.data/simulated-data/trajectory-data/{dataset}/{data_type}/{protein}-traj-arrays.npz')\n",
    "    xyz = npz_traj['positions'][::5]\n",
    "    state0pdbpath = base_dir + f'.data/simulated-data/trajectory-data/{dataset}/{data_type}/{protein}-traj-state0.pdb'\n",
    "    topology = md.load(state0pdbpath).topology   \n",
    "    trajectory = md.Trajectory(\n",
    "        xyz=xyz,\n",
    "        topology=topology\n",
    "    )\n",
    "    tica_model = run_tica(trajectory, lagtime=100)\n",
    "    features = tica_features(trajectory)\n",
    "    tics = tica_model.transform(features)\n",
    "    traj_model = md.Trajectory(\n",
    "        xyz=sampled_coords,\n",
    "        topology=topology\n",
    "    )\n",
    "    feat_model = tica_features(traj_model)\n",
    "    tics_model = tica_model.transform(feat_model)\n",
    "\n",
    "    acceptance = (len(np.unique(sampled_coords[:, 0, 0]))-1)/len(sampled_coords) / 10\n",
    "\n",
    "    # times\n",
    "    time_md = np.load(base_dir + f'.data/simulated-data/trajectory-data/{dataset}/{data_type}/{protein}-traj-time.npy')\n",
    "    model_time_per_step = times.sum() / (len(sampled_coords) * 10)\n",
    "    md_time_per_step = time_md / (2*10**9)\n",
    "\n",
    "\n",
    "\n",
    "    autocorrelation_model = az.autocorr(tics_model[:, 1])\n",
    "    autocorrelation_openMM = az.autocorr(tics[:, 1])\n",
    "\n",
    "    ess_model_s = ESS(autocorrelation_model, spacing=1)/(model_time_per_step * 10)\n",
    "    ess_md_s = ESS(autocorrelation_openMM, spacing=1)/(md_time_per_step * num_md_steps)\n",
    "    ratio_tic1 = ess_model_s / ess_md_s\n",
    "\n",
    "    autocorrelation_model = az.autocorr(tics_model[:, 0])\n",
    "    autocorrelation_openMM = az.autocorr(tics[:, 0])\n",
    "    ess_model_s = ESS(autocorrelation_model, spacing=1)/(model_time_per_step * 10)\n",
    "    ess_md_s = ESS(autocorrelation_openMM, spacing=1)/(md_time_per_step * num_md_steps)\n",
    "    ratio_tic0 = ess_model_s / ess_md_s\n",
    "    # check if we are missing states! And plot the correspoding TICA plots\n",
    "    ranges = np.abs(tics[::10, :2]).max(0)\n",
    "    max_dist = distance.cdist(tics[::10, :2]/ranges,tics_model[::10, :2]/ranges).min(axis=1).max()\n",
    "    if max_dist < 0.3:\n",
    "        evaluation_outputs[protein] = [acceptance,ratio_tic0, ratio_tic1]\n",
    "\n",
    "    else:            \n",
    "        #evaluation_outputs2[protein] = [acceptance,ratio_tic0, ratio_tic1]\n",
    "        evaluation_outputs[protein] = [acceptance,0, 0]\n",
    "        fig, ax = plt.subplots(figsize=(10,10))\n",
    "        plot_tic01(ax, tics, f\"MD\", tics_lims=tics)\n",
    "        plot_tic01(ax, tics_model, f\"{protein} MD - model\", cmap='autumn', tics_lims=tics)\n"
   ]
  },
  {
   "cell_type": "code",
   "execution_count": null,
   "metadata": {},
   "outputs": [],
   "source": [
    "save=False"
   ]
  },
  {
   "cell_type": "code",
   "execution_count": null,
   "metadata": {},
   "outputs": [],
   "source": [
    "#new_evaluations[\"CTSA\"][1]=1e10\n",
    "values = np.sort(np.array(list(evaluation_outputs.values()))[:, 1])[::-1]\n",
    "not_found_peptides = []\n",
    "#values[0] = 0\n",
    "\n",
    "fig1, ax1 = plt.subplots(figsize=(12,6))\n",
    "\n",
    "ax1.set_title('4AA MCMC - Speed-up TIC 0')\n",
    "ax1.set_xticks([])\n",
    "ax1.axhline(1, linestyle='--', color='firebrick')\n",
    "ax1.set_ylabel(\"Speed-up factor\")\n",
    "ax1.bar(np.arange(len(values)), values)\n",
    "ax1.set_xmargin(0.001)\n",
    "ax1.set_xlabel(\"Tetrapeptides\")\n",
    "ax1.semilogy()\n",
    "#plt.axhline(1, linestyle='--', color='firebrick')\n",
    "ax1.grid(axis='y', linewidth=2.5)\n",
    "#ax1.axvspan(-0.5, len(not_found_peptides)-0.55, alpha=0.2, color='green')\n",
    "ax1.axvspan(len(values[values>0])-0.45+len(not_found_peptides), len(values)-0.5, alpha=0.2, color='grey')\n",
    "if save:\n",
    "\n",
    "    plt.savefig(base_dir+\"outputs/figures/4AA-A100-speedup-bar-log-grey.svg\", bbox_inches=\"tight\")"
   ]
  },
  {
   "cell_type": "code",
   "execution_count": null,
   "metadata": {},
   "outputs": [],
   "source": [
    "np.median(values)"
   ]
  },
  {
   "cell_type": "code",
   "execution_count": null,
   "metadata": {},
   "outputs": [],
   "source": []
  }
 ],
 "metadata": {
  "interpreter": {
   "hash": "b1a394f7e91d47d07c147eda16c49d325a6b41d7fcc9a0bc9e6d1e8dd906a574"
  },
  "kernelspec": {
   "display_name": "Python 3 (ipykernel)",
   "language": "python",
   "name": "python3"
  },
  "language_info": {
   "codemirror_mode": {
    "name": "ipython",
    "version": 3
   },
   "file_extension": ".py",
   "mimetype": "text/x-python",
   "name": "python",
   "nbconvert_exporter": "python",
   "pygments_lexer": "ipython3",
   "version": "3.8.10"
  }
 },
 "nbformat": 4,
 "nbformat_minor": 2
}
