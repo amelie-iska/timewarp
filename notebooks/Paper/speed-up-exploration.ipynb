{
 "cells": [
  {
   "cell_type": "code",
   "execution_count": null,
   "metadata": {},
   "outputs": [],
   "source": [
    "import torch\n",
    "import numpy as np\n",
    "from tqdm.auto import tqdm\n",
    "import mdtraj as md\n",
    "import random\n",
    "from collections import defaultdict\n",
    "from dataclasses import dataclass\n",
    "import mdtraj\n",
    "\n",
    "import functools\n",
    "import openmm as mm\n",
    "import simtk.unit as u  # type: ignore [import]\n",
    "import matplotlib.pyplot as plt\n",
    "from bgflow import OpenMMBridge, OpenMMEnergy\n",
    "from openmm import unit\n",
    "\n",
    "from timewarp.utils.training_utils import load_model\n",
    "from timewarp.datasets import RawMolDynDataset\n",
    "from timewarp.utils.openmm import OpenmmPotentialEnergyTorch\n",
    "from timewarp.dataloader import (\n",
    "    DenseMolDynBatch,\n",
    "    moldyn_dense_collate_fn,\n",
    ")\n",
    "from itertools import islice\n",
    "import os\n",
    "from utilities.training_utils import set_seed\n",
    "from typing import Optional, List, Union, Tuple,  DefaultDict, Dict\n",
    "from timewarp.utils.energy_utils import get_energy_mean_std, plot_all_energy\n",
    "from simulation.md import (\n",
    "    get_simulation_environment,\n",
    "    compute_energy_and_forces,\n",
    "    compute_energy_and_forces_decomposition,\n",
    "    get_parameters_from_preset, \n",
    "    get_simulation_environment_integrator,\n",
    "    get_simulation_environment_for_force\n",
    ")\n",
    "from timewarp.equivariance.equivariance_transforms import transform_batch\n",
    "from timewarp.utils.evaluation_utils import compute_kinetic_energy\n",
    "from timewarp.utils.tica_utils import tica_features, run_tica, plot_tic01, plot_free_energy\n",
    "from scipy.spatial import distance\n",
    "import arviz as az\n",
    "plt.rc('font', size=35) \n",
    "device = torch.device(\"cuda\" if torch.cuda.is_available() else \"cpu\")    \n"
   ]
  },
  {
   "cell_type": "code",
   "execution_count": null,
   "metadata": {},
   "outputs": [],
   "source": [
    "dataset = \"4AA-huge\"\n",
    "#dataset = \"2AA-1-huge\"\n",
    "\n",
    "parameters = \"T1B-peptides\"\n",
    "step_width = 1000\n",
    "# base_dir = \"\"\n"
   ]
  },
  {
   "cell_type": "code",
   "execution_count": null,
   "metadata": {},
   "outputs": [],
   "source": [
    "data_type = 'test'\n",
    "data_dir = base_dir + f\".data/simulated-data/trajectory-data/{dataset}/{data_type}\"\n",
    "\n"
   ]
  },
  {
   "cell_type": "code",
   "execution_count": null,
   "metadata": {},
   "outputs": [],
   "source": [
    "def ESS(autocorrelations, spacing=1, cut_off_at_zero=True):\n",
    "    if cut_off_at_zero:\n",
    "        steps_until_zero = np.where(autocorrelations<=0)[0][0]\n",
    "    else:\n",
    "        steps_until_zero = -1\n",
    "    Neff = 1/(-1 + 2 * spacing * np.abs(autocorrelations[:steps_until_zero]).sum())\n",
    "    return Neff"
   ]
  },
  {
   "cell_type": "code",
   "execution_count": null,
   "metadata": {
    "scrolled": false
   },
   "outputs": [],
   "source": [
    "# TODO\n",
    "evaluation_outputs = {}\n",
    "\n",
    "proteins = [\"SAEL\", \"RYDT\", \"CSFQ\", \"FALS\", \"CSGS\",\n",
    "\"LPEM\", \"LYVI\", \"AYTG\", \"VCVS\", \"AAEW\",\n",
    "\"FKVP\", \"NQFM\", \"DTDL\", \"CTSA\", \"ANYT\",\n",
    "\"VTST\", \"AWKC\", \"RGSP\", \"AVEK\", \"FIYG\",\n",
    "\"VLSM\", \"QADY\", \"DQAL\", \"TFFL\", \"FIGE\",\n",
    "\"KKQF\", \"SLTC\", \"ITQD\", \"DFKS\", \"QDED\"]\n",
    "proteins.sort()\n",
    "\n",
    "for protein in tqdm(proteins):\n",
    "\n",
    "    #     if protein in not_found_peptides:\n",
    "    #         evaluation_outputs[protein] = 1e10\n",
    "    #         print(f\"MD fails to find all states for {protein}\")\n",
    "    #         continue\n",
    "\n",
    "    # model_npz = np.load()\n",
    "    trajectory_exploration = model_npz[\"positions\"]\n",
    "    time  = model_npz[\"time\"]\n",
    "    # MD\n",
    "    npz_traj = np.load(base_dir+f'.data/simulated-data/trajectory-data/{dataset}/test/{protein}-traj-arrays.npz')\n",
    "    positions = npz_traj['positions'][::5]\n",
    "\n",
    "    state0pdbpath = os.path.join(data_dir, f\"{protein}-traj-state0.pdb\")\n",
    "    topology = md.load(state0pdbpath).topology\n",
    "    trajectory = md.Trajectory(\n",
    "        xyz=positions,\n",
    "        topology=topology\n",
    "    )\n",
    "\n",
    "    tica_model = run_tica(trajectory, lagtime=100)\n",
    "    feats = tica_features(trajectory)\n",
    "    tics = tica_model.transform(feats)\n",
    "\n",
    "    traj_model = md.Trajectory(\n",
    "        xyz=trajectory_exploration,\n",
    "        topology=topology\n",
    "    )\n",
    "    feat_model = tica_features(traj_model)\n",
    "    tics_model = tica_model.transform(feat_model)\n",
    "\n",
    "\n",
    "    # check exploration MD\n",
    "    ranges = np.abs(tics[::10, :2]).max(0)\n",
    "\n",
    "    min_dist = 1\n",
    "    best_i = 0\n",
    "    for i in range(0, 100):\n",
    "        dist = distance.cdist(tics[::10, :2]/ranges, tics_model[i::100][:, :2]/ranges).min(axis=1).max()\n",
    "        if dist < min_dist:\n",
    "            min_dist = dist\n",
    "            best_i = i\n",
    "        if dist < 0.1:\n",
    "            break\n",
    "\n",
    "    # times\n",
    "    time_md = np.load(base_dir + f'.data/simulated-data/trajectory-data/{dataset}/{data_type}/{protein}-traj-time.npy')\n",
    "    model_time_per_step = time / len(tics_model[best_i::100])\n",
    "    md_time_per_step = time_md / (2*10**9)\n",
    "\n",
    "\n",
    "    autocorrelation_model = az.autocorr(tics_model[best_i::100, 0])\n",
    "    autocorrelation_openMM = az.autocorr(tics[:, 0])\n",
    "    ess_model_s = ESS(autocorrelation_model, spacing=1)/(model_time_per_step)\n",
    "    ess_md_s = ESS(autocorrelation_openMM, spacing=1)/(md_time_per_step * 10000)\n",
    "\n",
    "    ratio_tic0 = ess_model_s / ess_md_s\n",
    "\n",
    "\n",
    "    evaluation_outputs[protein] = ratio_tic0\n",
    "\n",
    "    simulation = get_simulation_environment(state0pdbpath, parameters)\n",
    "    integrator = get_simulation_environment_integrator(parameters)\n",
    "    system = simulation.system\n",
    "\n",
    "    openmm_potential_energy_torch = OpenmmPotentialEnergyTorch(system, integrator, platform_name='CUDA')\n",
    "    energies_model = openmm_potential_energy_torch(torch.from_numpy(trajectory_exploration[best_i::100]))\n",
    "\n",
    "    fig, ax = plt.subplots(figsize=(10,10))\n",
    "    plot_tic01(ax, tics, \"MD\", tics_lims=tics)\n",
    "    plot_tic01(ax, tics_model, f\"{protein}\", tics_lims=tics, cmap='autumn')"
   ]
  },
  {
   "cell_type": "code",
   "execution_count": null,
   "metadata": {},
   "outputs": [],
   "source": [
    "#np.save(base_dir + f'outputs/new-training/samples/4AA-model-exploration_evaluation_outputs.npy', evaluation_outputs)"
   ]
  },
  {
   "cell_type": "code",
   "execution_count": null,
   "metadata": {},
   "outputs": [],
   "source": [
    "evaluation_outputs"
   ]
  },
  {
   "cell_type": "code",
   "execution_count": null,
   "metadata": {},
   "outputs": [],
   "source": [
    "np.median(list(evaluation_outputs.values()))"
   ]
  },
  {
   "attachments": {},
   "cell_type": "markdown",
   "metadata": {},
   "source": [
    "## Look at the ramachandran plots, to see which are missing"
   ]
  },
  {
   "cell_type": "code",
   "execution_count": null,
   "metadata": {},
   "outputs": [],
   "source": [
    "# Peptides for which we find more states than MD\n",
    "not_found_peptides  = [\"ANYT\", \"AVEK\", \"DTDL\", \"LYVI\", \"NQFM\", \"QADY\", \"VLSM\", \"CTSA\"]\n",
    "\n",
    "for peptide in not_found_peptides:\n",
    "    evaluation_outputs[peptide] = 1e10"
   ]
  },
  {
   "cell_type": "code",
   "execution_count": null,
   "metadata": {},
   "outputs": [],
   "source": [
    "save = False"
   ]
  },
  {
   "cell_type": "code",
   "execution_count": null,
   "metadata": {},
   "outputs": [],
   "source": [
    "fig1, ax1 = plt.subplots(figsize=(12,6))\n",
    "ax1.set_title('4AA exploration - Speed-up TIC 0')\n",
    "ax1.set_xticks([])\n",
    "ax1.axhline(1, linestyle='--', color='firebrick', linewidth=2)\n",
    "ax1.set_ylabel(\"Speed-up factor\")\n",
    "ax1.set_xlabel(\"Tetrapeptides\")\n",
    "values = np.sort(np.array(list(evaluation_outputs.values())))[::-1]\n",
    "values[:len(not_found_peptides)] = 0\n",
    "ax1.bar(np.arange(len(values)),values)\n",
    "#ax1.bar(np.arange(len(values[values[:,1]>0])), np.sort(values[:, 1][values[:,1]>0])[::-1])\n",
    "ax1.semilogy()\n",
    "ax1.grid(linewidth=2.5)\n",
    "ax1.set_xmargin(0.01)\n",
    "ax1.axvspan(-0.5, len(not_found_peptides)-0.75, alpha=0.2, color='green')\n",
    "\n",
    "#plt.axhline(1, linestyle='--', color='firebrick')\n",
    "if save:\n",
    "    plt.savefig(base_dir+\"outputs/figures/4AA-exploration-speedup-bar-log.svg\", bbox_inches=\"tight\")"
   ]
  },
  {
   "attachments": {},
   "cell_type": "markdown",
   "metadata": {},
   "source": [
    "## As we saved only good matching chains before, this exludes the ones where we find more meta-stable states than MD. Hence, we have to run these peptides again and save *all* chains"
   ]
  },
  {
   "cell_type": "code",
   "execution_count": null,
   "metadata": {
    "scrolled": false
   },
   "outputs": [],
   "source": [
    "# TODO\n",
    "\n",
    "proteins = not_found_peptides\n",
    "proteins.sort()\n",
    "\n",
    "for protein in tqdm(proteins):\n",
    "    \n",
    "    # model_npz = np.load()\n",
    "    trajectory_exploration = model_npz[\"positions\"]\n",
    "    time  = model_npz[\"time\"]\n",
    "    # MD\n",
    "    npz_traj = np.load(base_dir+f'.data/simulated-data/trajectory-data/{dataset}/test/{protein}-traj-arrays.npz')\n",
    "    positions = npz_traj['positions'][::5]\n",
    "\n",
    "    state0pdbpath = os.path.join(data_dir, f\"{protein}-traj-state0.pdb\")\n",
    "    topology = md.load(state0pdbpath).topology\n",
    "    trajectory = md.Trajectory(\n",
    "        xyz=positions,\n",
    "        topology=topology\n",
    "    )\n",
    "\n",
    "    tica_model = run_tica(trajectory, lagtime=100)\n",
    "    feats = tica_features(trajectory)\n",
    "    tics = tica_model.transform(feats)\n",
    "\n",
    "    traj_model = md.Trajectory(\n",
    "        xyz=trajectory_exploration,\n",
    "        topology=topology\n",
    "    )\n",
    "    feat_model = tica_features(traj_model)\n",
    "    tics_model = tica_model.transform(feat_model)\n",
    "\n",
    "    simulation = get_simulation_environment(state0pdbpath, parameters)\n",
    "    integrator = get_simulation_environment_integrator(parameters)\n",
    "    system = simulation.system\n",
    "\n",
    "    openmm_potential_energy_torch = OpenmmPotentialEnergyTorch(system, integrator, platform_name='CUDA')\n",
    "    energies_model = openmm_potential_energy_torch(torch.from_numpy(trajectory_exploration))\n"
   ]
  },
  {
   "cell_type": "code",
   "execution_count": null,
   "metadata": {},
   "outputs": [],
   "source": []
  },
  {
   "cell_type": "code",
   "execution_count": null,
   "metadata": {},
   "outputs": [],
   "source": []
  }
 ],
 "metadata": {
  "interpreter": {
   "hash": "b1a394f7e91d47d07c147eda16c49d325a6b41d7fcc9a0bc9e6d1e8dd906a574"
  },
  "kernelspec": {
   "display_name": "Python 3 (ipykernel)",
   "language": "python",
   "name": "python3"
  },
  "language_info": {
   "codemirror_mode": {
    "name": "ipython",
    "version": 3
   },
   "file_extension": ".py",
   "mimetype": "text/x-python",
   "name": "python",
   "nbconvert_exporter": "python",
   "pygments_lexer": "ipython3",
   "version": "3.8.10"
  }
 },
 "nbformat": 4,
 "nbformat_minor": 2
}
