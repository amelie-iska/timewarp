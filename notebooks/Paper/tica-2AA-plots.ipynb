{
 "cells": [
  {
   "attachments": {},
   "cell_type": "markdown",
   "id": "2a8d6ad6",
   "metadata": {},
   "source": [
    "## Run TICA"
   ]
  },
  {
   "cell_type": "code",
   "execution_count": null,
   "id": "519bc20c",
   "metadata": {},
   "outputs": [],
   "source": [
    "import os\n",
    "import pickle\n",
    "import numpy as np\n",
    "import mdtraj as md\n",
    "from timewarp.utils.evaluation_utils import compute_internal_coordinates\n",
    "from timewarp.datasets import RawMolDynDataset\n",
    "from timewarp.dataloader import (\n",
    "    DenseMolDynBatch,\n",
    "    moldyn_dense_collate_fn,\n",
    ")\n",
    "from itertools import islice\n",
    "import matplotlib.pyplot as plt\n",
    "#from astropy.stats import circcorrcoef\n",
    "import matplotlib as mpl\n",
    "from matplotlib.colors import LogNorm\n",
    "plt.rc('font', size=35) \n"
   ]
  },
  {
   "cell_type": "code",
   "execution_count": null,
   "id": "fc635aa1",
   "metadata": {},
   "outputs": [],
   "source": [
    "proteins = [\"QW\", \"HT\", \"GP\"]\n",
    "number = 1\n",
    "proteins = [\"DH\", \"GT\",\"TK\", \"CW\"  ]\n",
    "number = 4\n",
    "proteins = [\"YA\" ,\"KN\", \"KI\"]\n",
    "number = 3\n",
    "proteins = [\"QW\", \"HT\"]\n",
    "number = 0\n",
    "exploration = False"
   ]
  },
  {
   "cell_type": "code",
   "execution_count": null,
   "id": "f182135a",
   "metadata": {},
   "outputs": [],
   "source": [
    "from matplotlib.colors import LogNorm\n",
    "plt.rc('font', size=35) \n",
    "\n",
    "def plot_tic01_2(ax, tics, tics_lims, cmap='viridis'):\n",
    "    _ = ax.hist2d(tics[:,0], tics[:,1], bins=100, norm=LogNorm(), cmap=cmap, rasterized=True)\n",
    "\n",
    "    ax.set_ylim(tics_lims[:,1].min(),tics_lims[:,1].max())\n",
    "    ax.set_xlim(tics_lims[:,0].min(),tics_lims[:,0].max())\n",
    "\n",
    "    \n",
    "def plot_free_energy2(ax, torison, label=None, linestyle='-'):\n",
    "    hist, edges = np.histogram(torison, bins=100, density=True)\n",
    "    free_energy = -np.log(hist/hist.max())\n",
    "    centers = 0.5*(edges[1:] + edges[:-1])\n",
    "    ax.plot(centers, free_energy, linewidth=4, label=label, linestyle=linestyle)\n",
    "    #ax.set_xlabel(xlabel)\n",
    "    #plt.title(\"Free energy\")\n",
    "    "
   ]
  },
  {
   "cell_type": "code",
   "execution_count": null,
   "id": "7808787e",
   "metadata": {},
   "outputs": [],
   "source": [
    "save=True"
   ]
  },
  {
   "cell_type": "code",
   "execution_count": null,
   "id": "29eb8900",
   "metadata": {
    "scrolled": false
   },
   "outputs": [],
   "source": [
    "from matplotlib.ticker import FormatStrFormatter\n",
    "n_proteins = len(proteins)\n",
    "fig, axes = plt.subplots(n_proteins, 2, figsize=(12, 6*n_proteins), sharey='row')\n",
    "axes[0, 0].set_title(\"MD\")\n",
    "axes[0, 1].set_title(\"Timewarp\")\n",
    "for i, protein in enumerate(proteins):\n",
    "    npz = np.load(base_dir + f'outputs/new-training/samples/2AA-results-{protein}.npz')\n",
    "    tics=npz[\"tics\"]\n",
    "    tics_model=npz[\"tics_model\"]\n",
    "    plot_tic01_2(axes[i, 0], tics, tics_lims=tics)\n",
    "    plot_tic01_2(axes[i, 1], tics_model, tics_lims=tics)\n",
    "    axes[n_proteins-1, 0].set_xlabel(\"TIC 0\")\n",
    "    axes[n_proteins-1, 1].set_xlabel(\"TIC 0\")\n",
    "    axes[i, 0].set_ylabel(f\"TIC 1\")\n",
    "    axes[i, 0].set_xticks([])\n",
    "    axes[i, 1].set_xticks([])\n",
    "    axes[i, 0].set_yticks([])\n",
    "\n",
    "    #axes[0].yaxis.set_major_formatter(FormatStrFormatter('%.1f'))\n",
    "    plt.subplots_adjust(wspace=0, hspace=.05)\n",
    "    \n",
    "pad = 5 # in points\n",
    "for ax, row in zip(axes[:,0], proteins):\n",
    "    ax.annotate(row, xy=(0, 0.5), xytext=(-ax.yaxis.labelpad - pad, 0),\n",
    "                xycoords=ax.yaxis.label, textcoords='offset points',\n",
    "                size='large', ha='right', va='center')\n",
    "if save:\n",
    "    plt.savefig(base_dir+f\"outputs/figures/2AA-TICA-multi-{number}.svg\", bbox_inches = \"tight\")"
   ]
  },
  {
   "cell_type": "code",
   "execution_count": null,
   "id": "8b7f5fc2",
   "metadata": {
    "scrolled": false
   },
   "outputs": [],
   "source": [
    "fig, axes = plt.subplots(n_proteins, 2, figsize=(12, 6*n_proteins), sharey='row')\n",
    "for i, protein in enumerate(proteins):\n",
    "    npz = np.load(base_dir + f'outputs/new-training/samples/2AA-results-{protein}.npz')\n",
    "    tics=npz[\"tics\"]\n",
    "    tics_model=npz[\"tics_model\"]\n",
    "    npz_exploration = np.load(base_dir + f'outputs/new-training/samples/2AA-results-exploration-{protein}.npz')\n",
    "    tics_model_exploration = npz_exploration[\"tics_model\"]\n",
    "    plot_free_energy2(axes[i, 0], tics[:, 0],\"MD\")\n",
    "    if exploration:  \n",
    "        plot_free_energy2(axes[i, 0], tics_model_exploration[:, 0],\"Exploration\", linestyle=\"--\")\n",
    "    plot_free_energy2(axes[i, 0], tics_model[:, 0],\"MCMC\", linestyle=\"--\")\n",
    "\n",
    "    plot_free_energy2(axes[i, 1], tics[:, 1],\"MD\")\n",
    "    if exploration:  \n",
    "        plot_free_energy2(axes[i, 1], tics_model_exploration[:, 1],\"Exploration\", linestyle=\"--\")\n",
    "    plot_free_energy2(axes[i, 1], tics_model[:, 1],\"MCMC\", linestyle=\"--\")\n",
    "    #axes[0].set_xlim(-np.pi,np.pi)\n",
    "    axes[n_proteins-1, 0].set_xlabel(\"TIC 0\")\n",
    "    axes[i, 0].set_ylabel(\"Free energy/$k_B T$\")\n",
    "    #axes[0].set_ylabel(\"F/k_B T\")\n",
    "    axes[n_proteins-1, 1].set_xlabel(\"TIC 1\")\n",
    "    #axes[1].xaxis.set_major_formatter(FormatStrFormatter('%.1f'))\n",
    "    #axes[1].xaxis.set_major_locator(plt.MaxNLocator(2))\n",
    "    axes[i, 0].set_xticks([])\n",
    "    axes[i, 1].set_xticks([])\n",
    "    \n",
    "axes[0, 0].set_title(\"Free energy projections\",  x=1.)\n",
    "plt.subplots_adjust(wspace=0, hspace=0.05)\n",
    "\n",
    "axes[0, 1].legend(fontsize=25)\n",
    "if save:\n",
    "    plt.savefig(base_dir+f\"outputs/figures/2AA-free-energy-multi-{number}.svg\", bbox_inches = \"tight\")"
   ]
  },
  {
   "cell_type": "code",
   "execution_count": null,
   "id": "15e1b388",
   "metadata": {
    "scrolled": false
   },
   "outputs": [],
   "source": [
    "def ESS(autocorrelations, spacing=1, cut_off_at_zero=True):\n",
    "    if cut_off_at_zero:\n",
    "        steps_until_zero = np.where(autocorrelations<=0)[0][0]\n",
    "    else:\n",
    "        steps_until_zero = -1\n",
    "    Neff = 1/(-1 + 2 * spacing * np.abs(autocorrelations[:steps_until_zero]).sum())\n",
    "    return Neff\n",
    "import arviz as az\n",
    "\n",
    "num_md_steps=10000\n",
    "max_time= 0\n",
    "fig, axes = plt.subplots(n_proteins, 1, figsize=(12, 6*n_proteins), sharex=True)\n",
    "for i, protein in enumerate(proteins):\n",
    "    npz = np.load(base_dir + f'outputs/new-training/samples/2AA-results-{protein}.npz')\n",
    "    tics=npz[\"tics\"]\n",
    "    tics_model=npz[\"tics_model\"]\n",
    "    model_time_per_step = npz[\"model_time_per_step\"]\n",
    "    md_time_per_step = npz[\"md_time_per_step\"]\n",
    "    autocorrelation_model = az.autocorr(tics_model[:, 0])\n",
    "    autocorrelation_openMM = az.autocorr(tics[:, 0])\n",
    "    \n",
    "    steps_until_zero = np.where(autocorrelation_openMM<=0)[0][0]\n",
    "    sampling_time_md = np.arange(steps_until_zero) * md_time_per_step * num_md_steps \n",
    "    steps_until_zero = np.where(autocorrelation_model<=0)[0][0]\n",
    "    sampling_time_model = np.arange(steps_until_zero) * model_time_per_step * 10 \n",
    "    max_time_peptide = max(sampling_time_md[-1], sampling_time_model[-1]) * 1.5\n",
    "    if max_time_peptide > max_time:\n",
    "        max_time = max_time_peptide\n",
    "    ess_model_s = ESS(autocorrelation_model, spacing=1)/(model_time_per_step * 10)\n",
    "    ess_md_s = ESS(autocorrelation_openMM, spacing=1)/(md_time_per_step * num_md_steps)\n",
    "    \n",
    "    \n",
    "    axes[i].plot(np.arange(0, len(autocorrelation_openMM)) * md_time_per_step * num_md_steps, autocorrelation_openMM, label=f\"MD | ESS/t = {ess_md_s:.3f}/s\", linewidth=5)\n",
    "    axes[i].plot(np.arange(0, len(autocorrelation_model)) * model_time_per_step * 10, autocorrelation_model, label=f\"Timewarp | ESS/t = {ess_model_s:.3f}/s\", linewidth=5)\n",
    "    axes[i].set_ylabel(\"Autocorrelation\")\n",
    "\n",
    "\n",
    "    axes[i].legend(fontsize=25)\n",
    "    axes[i].axhline(0, color='black', linestyle=\"--\")\n",
    "axes[n_proteins-1].set_xlabel(\"Lag time in s\")\n",
    "\n",
    "axes[n_proteins-1].set_xlim(0, max_time)\n",
    "    \n",
    "axes[0].set_title(\"TIC 0 autocorrelations\")\n",
    "plt.subplots_adjust(wspace=0, hspace=0.05)\n",
    "\n",
    "if save:\n",
    "    plt.savefig(base_dir+f\"outputs/figures/2AA-autocorrelation-multi-{number}.svg\", bbox_inches = \"tight\")\n"
   ]
  },
  {
   "cell_type": "code",
   "execution_count": null,
   "id": "ba5e8b4a",
   "metadata": {
    "scrolled": false
   },
   "outputs": [],
   "source": [
    "fig, axes = plt.subplots(n_proteins * 2, 1, figsize=(12, 6*n_proteins), sharex=True)\n",
    "spacing = 10\n",
    "\n",
    "max_time = 1e20\n",
    "for i, protein in enumerate(proteins):\n",
    "    npz = np.load(base_dir + f'outputs/new-training/samples/2AA-results-{protein}.npz')\n",
    "    tics=npz[\"tics\"]\n",
    "    tics_model=npz[\"tics_model\"]\n",
    "    model_time_per_step = npz[\"model_time_per_step\"]\n",
    "    md_time_per_step = npz[\"md_time_per_step\"]\n",
    "    \n",
    "    sampling_time_md = np.arange(len(tics)) * md_time_per_step * num_md_steps / 3600\n",
    "    sampling_time_model = np.arange(len(tics_model)) * model_time_per_step * 10 /3600\n",
    "    max_time_peptide = min(sampling_time_md[-1], sampling_time_model[-1])\n",
    "    if max_time_peptide < max_time:\n",
    "        max_time = max_time_peptide\n",
    "\n",
    "    axes[2*i].scatter(sampling_time_md[::spacing], tics[::spacing, 0], s=.5, label=\"MD\")\n",
    "    axes[2*i+1].scatter(sampling_time_model[::spacing*10], tics_model[::spacing*10, 0], s=.5, c='C1', label=\"Timewarp\")\n",
    "    axes[2*i].legend(fontsize=20,  markerscale=10, loc=1)\n",
    "    axes[2*i+1].legend(fontsize=20,  markerscale=10, loc=1)\n",
    "    axes[2*i+1].set_yticks([])\n",
    "    axes[2*i].set_yticks([])\n",
    "    axes[2*i].set_ylabel(\"TIC 0\")\n",
    "    axes[2*i+1].set_ylabel(\"TIC 0\")\n",
    "\n",
    "    #axes[i].legend(fontsize=25)\n",
    "    \n",
    "axes[2*i+1].set_xlabel(\"Wall-clock sampling time in h\")\n",
    "axes[2*i+1].set_xlim(0, max_time)\n",
    "    \n",
    "axes[0].set_title(\"TIC 0 time depedence\")\n",
    "plt.subplots_adjust(wspace=0, hspace=0.05)\n",
    "\n",
    "if save:\n",
    "    plt.savefig(base_dir+f\"outputs/figures/2AA-tic0-dependence-multi-{number}.png\", bbox_inches = \"tight\", dpi=300)\n",
    "\n",
    "    plt.savefig(base_dir+f\"outputs/figures/2AA-tic0-dependence-multi-{number}.svg\", bbox_inches = \"tight\")\n",
    "\n",
    "\n",
    "\n"
   ]
  },
  {
   "cell_type": "code",
   "execution_count": null,
   "id": "47a9d653",
   "metadata": {},
   "outputs": [],
   "source": []
  },
  {
   "cell_type": "code",
   "execution_count": null,
   "id": "dd360b6d",
   "metadata": {},
   "outputs": [],
   "source": []
  }
 ],
 "metadata": {
  "kernelspec": {
   "display_name": "Python 3 (ipykernel)",
   "language": "python",
   "name": "python3"
  },
  "language_info": {
   "codemirror_mode": {
    "name": "ipython",
    "version": 3
   },
   "file_extension": ".py",
   "mimetype": "text/x-python",
   "name": "python",
   "nbconvert_exporter": "python",
   "pygments_lexer": "ipython3",
   "version": "3.8.10"
  },
  "vscode": {
   "interpreter": {
    "hash": "ad0a90f981e1a0e68b5789e8477a7e9beeeffab81b7242fd14b49286ee6bbf6c"
   }
  }
 },
 "nbformat": 4,
 "nbformat_minor": 5
}
