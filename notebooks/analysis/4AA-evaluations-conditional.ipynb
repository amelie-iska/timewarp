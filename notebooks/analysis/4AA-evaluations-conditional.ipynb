{
 "cells": [
  {
   "cell_type": "code",
   "execution_count": null,
   "metadata": {},
   "outputs": [],
   "source": [
    "import torch\n",
    "import numpy as np\n",
    "from tqdm.auto import tqdm\n",
    "import mdtraj as md\n",
    "import random\n",
    "from collections import defaultdict\n",
    "from dataclasses import dataclass\n",
    "import mdtraj\n",
    "\n",
    "import functools\n",
    "import openmm as mm\n",
    "import simtk.unit as u  # type: ignore [import]\n",
    "import matplotlib.pyplot as plt\n",
    "from bgflow import OpenMMBridge, OpenMMEnergy\n",
    "from openmm import unit\n",
    "\n",
    "from timewarp.utils.training_utils import load_model\n",
    "from timewarp.datasets import RawMolDynDataset\n",
    "from timewarp.utils.openmm import OpenmmPotentialEnergyTorch\n",
    "from timewarp.dataloader import (\n",
    "    DenseMolDynBatch,\n",
    "    moldyn_dense_collate_fn,\n",
    ")\n",
    "from itertools import islice\n",
    "import os\n",
    "from utilities.training_utils import set_seed\n",
    "from typing import Optional, List, Union, Tuple,  DefaultDict, Dict\n",
    "from timewarp.utils.energy_utils import get_energy_mean_std, plot_all_energy\n",
    "from simulation.md import (\n",
    "    get_simulation_environment,\n",
    "    compute_energy_and_forces,\n",
    "    compute_energy_and_forces_decomposition,\n",
    "    get_parameters_from_preset, \n",
    "    get_simulation_environment_integrator,\n",
    "    get_simulation_environment_for_force\n",
    ")\n",
    "from timewarp.equivariance.equivariance_transforms import transform_batch\n",
    "from timewarp.utils.evaluation_utils import compute_kinetic_energy\n",
    "from timewarp.utils.training_utils import (\n",
    "    end_of_epoch_report,\n",
    "    load_or_construct_loss,\n",
    "    load_or_construct_loss_scheduler,\n",
    "    run_on_dataloader,\n",
    ")\n",
    "from timewarp.losses import (\n",
    "    wrap_or_replace_loss,\n",
    ")\n",
    "from timewarp.model_constructor import model_constructor\n",
    "\n",
    "\n",
    "plt.rc('font', size=30) \n",
    "device = torch.device(\"cuda\" if torch.cuda.is_available() else \"cpu\")    \n"
   ]
  },
  {
   "cell_type": "code",
   "execution_count": null,
   "metadata": {},
   "outputs": [],
   "source": [
    "dataset = \"4AA-huge\"\n",
    "step_width = 1000000"
   ]
  },
  {
   "cell_type": "code",
   "execution_count": null,
   "metadata": {},
   "outputs": [],
   "source": [
    "# Load the dataset\n",
    "data_type = 'val'\n",
    "data_dir = base_dir + f\".data/simulated-data/trajectory-data/{dataset}/{data_type}\"\n",
    "#protein = \"AACG\"\n",
    "\n",
    "protein = \"LAKS\"\n",
    "\n",
    "\n",
    "\n",
    "raw_dataset = RawMolDynDataset(data_dir=data_dir, step_width=step_width, equal_data_spacing=False)\n",
    "pdb_names = [protein]\n",
    "raw_iterator = raw_dataset.make_iterator(pdb_names)\n",
    "batches = (moldyn_dense_collate_fn([datapoint]) for datapoint in raw_iterator)\n",
    "batches = list(islice(batches, 5000))  \n",
    "state0pdbpath = os.path.join(data_dir, f\"{protein}-traj-state0.pdb\")\n",
    "parameters =  \"T1B-peptides\" # \"alanine-dipeptide\""
   ]
  },
  {
   "cell_type": "code",
   "execution_count": null,
   "metadata": {},
   "outputs": [],
   "source": [
    "simulation = get_simulation_environment(state0pdbpath, parameters)\n",
    "integrator = get_simulation_environment_integrator(parameters)\n",
    "system = simulation.system\n",
    "\n",
    "openmm_potential_energy_torch = OpenmmPotentialEnergyTorch(system, integrator, platform_name='CUDA')\n",
    "kbT = (integrator.getTemperature() * unit.MOLAR_GAS_CONSTANT_R).value_in_unit(unit.kilojoule_per_mole)\n",
    "\n",
    "num_atoms = system.getNumParticles()\n",
    "masses = [system.getParticleMass(i).value_in_unit(u.dalton) for i in range(num_atoms)]\n",
    "masses = torch.tensor(masses).to(device)\n",
    "#parameters = get_parameters_from_preset(parameters)\n"
   ]
  },
  {
   "cell_type": "code",
   "execution_count": null,
   "metadata": {},
   "outputs": [],
   "source": [
    "model_type = 'latest'\n",
    "\n",
    "# construct model\n",
    "\n",
    "state_dict = torch.load(savefile, map_location=lambda storage, loc: storage)\n",
    "\n",
    "config = state_dict[\"training_config\"]\n",
    "model = model_constructor(config.model_config)\n",
    "loss_computer = load_or_construct_loss(config)\n",
    "model = wrap_or_replace_loss(model, loss_computer)\n",
    "model.load_state_dict(state_dict['module'])\n",
    "model = model.module.to(device)"
   ]
  },
  {
   "attachments": {},
   "cell_type": "markdown",
   "metadata": {},
   "source": [
    "## Sample with model on conditioning samples from the Boltzmann distribution"
   ]
  },
  {
   "cell_type": "code",
   "execution_count": null,
   "metadata": {},
   "outputs": [],
   "source": [
    "from timewarp.utils.evaluation_utils import sample_on_batches\n",
    "\n",
    "n_samples = 200\n",
    "(\n",
    "    y_coords_model,\n",
    "    y_velocs_model,\n",
    "    traj_coords,\n",
    "    traj_velocs,\n",
    "    traj_coords_conditioning,\n",
    "    _,\n",
    "    ll_reverse,\n",
    "    ll_forward,\n",
    "    ll_reverse_training,\n",
    "    ll_forward_training,\n",
    "    acceptance,\n",
    ") = sample_on_batches(\n",
    "    batches[:n_samples],\n",
    "    model,\n",
    "    device,\n",
    "    openmm_potential_energy_torch,\n",
    "    True,\n",
    "    masses,\n",
    "    random_velocs=True,\n",
    ")"
   ]
  },
  {
   "cell_type": "code",
   "execution_count": null,
   "metadata": {},
   "outputs": [],
   "source": [
    "batch = batches[50]"
   ]
  },
  {
   "cell_type": "code",
   "execution_count": null,
   "metadata": {},
   "outputs": [],
   "source": [
    "x_coords = batch.atom_coords\n",
    "y_coords_target = batch.atom_coord_targets\n",
    "atom_types = batch.atom_types\n",
    "adj_list = batch.adj_list\n",
    "edge_batch_idx = batch.edge_batch_idx\n",
    "masked_elements = batch.masked_elements\n",
    "x_velocs = torch.randn_like(batch.atom_velocs, device=device).contiguous()\n",
    "y_velocs_target = torch.randn_like(batch.atom_veloc_targets, device=device).contiguous()\n",
    "model(\n",
    "    atom_types=atom_types.to(device),\n",
    "    x_coords=x_coords.to(device),\n",
    "    x_velocs=x_velocs.to(device),\n",
    "    y_coords=y_coords_target.to(device),\n",
    "    y_velocs=y_velocs_target.to(device),\n",
    "    adj_list=adj_list.to(device),\n",
    "    edge_batch_idx=edge_batch_idx.to(device),\n",
    "    masked_elements=masked_elements.to(device),\n",
    ")"
   ]
  },
  {
   "cell_type": "code",
   "execution_count": null,
   "metadata": {},
   "outputs": [],
   "source": [
    "protein"
   ]
  },
  {
   "cell_type": "code",
   "execution_count": null,
   "metadata": {},
   "outputs": [],
   "source": [
    "# 0.2\n",
    "acceptance.mean()"
   ]
  },
  {
   "cell_type": "code",
   "execution_count": null,
   "metadata": {},
   "outputs": [],
   "source": [
    "# Energies\n",
    "print(\"Plotting energies...\")\n",
    "energies_model_bg = openmm_potential_energy_torch(torch.from_numpy(y_coords_model)).cpu().numpy().flatten()\n",
    "energies_traj = openmm_potential_energy_torch(torch.from_numpy(traj_coords)).cpu().numpy()\n",
    "\n",
    "# potential energy distribution\n",
    "plt.figure(figsize=(16, 9))\n",
    "plt.hist(\n",
    "    energies_model_bg,\n",
    "    bins=100,\n",
    "    color=\"orange\",\n",
    "    alpha=0.5,\n",
    "    density=True,\n",
    "    label=\"model\",\n",
    "    range=(energies_traj.min(), 500)\n",
    "\n",
    ")\n",
    "plt.hist(\n",
    "    energies_traj,\n",
    "    bins=100,\n",
    "    color=\"green\",\n",
    "    alpha=0.5,\n",
    "    density=True,\n",
    "    label=\"openMM\",\n",
    ")\n",
    "plt.xlabel(\"Energy in kJ/mol\")\n",
    "plt.legend()\n",
    "plt.title(\"Sample on data: Potential energy distribution\")"
   ]
  },
  {
   "cell_type": "code",
   "execution_count": null,
   "metadata": {},
   "outputs": [],
   "source": [
    "(energies_model_bg>1000).sum()/len(energies_model_bg)"
   ]
  },
  {
   "cell_type": "code",
   "execution_count": null,
   "metadata": {},
   "outputs": [],
   "source": [
    "# Likelihood difference samples\n",
    "plt.figure(figsize=(16, 9))\n",
    "plt.hist((ll_forward - ll_reverse), bins=100, label=\"Model samples\", range=(-100,100))\n",
    "plt.xlabel(\"Log-likelihood\")\n",
    "plt.title(\"Log-likelihood difference distribution for model samples\")\n",
    "\n",
    "\n",
    "# Likelihoods\n",
    "plt.figure(figsize=(16, 9))\n",
    "plt.hist((ll_forward), alpha=0.5, density=True, bins=100, label=\"Model samples\")\n",
    "plt.hist((ll_reverse), alpha=0.5, density=True, bins=100, label=\"Model samples reverse\")\n",
    "plt.hist((ll_forward_training), alpha=0.5, density=True, bins=100, label=\"Training samples\")\n",
    "plt.hist(\n",
    "    (ll_reverse_training), alpha=0.5, density=True, bins=100, label=\"Reverse training samples\"\n",
    ")\n",
    "plt.xlabel(\"Log-likelihood\")\n",
    "plt.title(\"Sample on data: Log-likelihood distributions\")\n",
    "plt.legend()"
   ]
  },
  {
   "cell_type": "code",
   "execution_count": null,
   "metadata": {
    "scrolled": false
   },
   "outputs": [],
   "source": [
    "plt.figure(figsize=(16,9))\n",
    "plt.hist(np.random.randn(10000), alpha=0.5, density=True, bins=100, label=\"Gaussian\");\n",
    "plt.hist(y_velocs_model.flatten(), alpha=0.5, density=True, bins=100, label=\"Model samples\", range=(-10,10));\n",
    "plt.title(\"Velocity distribution\")\n",
    "plt.legend();\n",
    "\n",
    "prob = 0.5 * y_velocs_model**2\n",
    "prob_gauss = 0.5 * np.random.randn(*y_velocs_model.shape)**2\n",
    "plt.figure(figsize=(16,9))\n",
    "plt.hist(prob_gauss.sum(axis=(1,2)), alpha=0.5, density=True, bins=100, label=\"Gaussian\");\n",
    "plt.hist(prob.sum(axis=(1,2)), alpha=0.5, density=True, bins=100, label=\"Model samples\");\n",
    "plt.title(\"Kinetic energy distribution\")\n",
    "plt.legend();"
   ]
  },
  {
   "cell_type": "code",
   "execution_count": null,
   "metadata": {},
   "outputs": [],
   "source": [
    "delta_x = traj_coords - traj_coords_conditioning\n",
    "delta_x_model = y_coords_model - traj_coords_conditioning\n",
    "\n",
    "\n",
    "fig, axs = plt.subplots(2, 2, figsize=(16, 16), sharey=True, sharex=True)\n",
    "for i in range(2):\n",
    "    for j in range(2):\n",
    "\n",
    "        axs[i, j].hist(\n",
    "            delta_x[:, i * 5 + j, 0],\n",
    "            bins=100,\n",
    "            alpha=0.5,\n",
    "            density=True,\n",
    "            label=\"openMM\",\n",
    "        )\n",
    "        axs[i, j].hist(\n",
    "            delta_x_model[:, i * 5 + j, 0],\n",
    "            bins=100,\n",
    "            alpha=0.5,\n",
    "            density=True,\n",
    "            label=\"model\",\n",
    "        )\n",
    "axs[i, j].legend()\n"
   ]
  },
  {
   "attachments": {},
   "cell_type": "markdown",
   "metadata": {},
   "source": [
    "# Sample conditional distribution\n"
   ]
  },
  {
   "cell_type": "code",
   "execution_count": null,
   "metadata": {
    "scrolled": true
   },
   "outputs": [],
   "source": [
    "from timewarp.utils.evaluation_utils import compute_kinetic_energy\n",
    "\n",
    "initial_idx = 108\n",
    "batch = batches[initial_idx]\n",
    "\n",
    "num_samples = 10000\n",
    "x_coords=batch.atom_coords.to(device)\n",
    "random_velocs = True\n",
    "with torch.no_grad():\n",
    "    y_coords, y_velocs, p_xy = model.conditional_sample_with_logp(\n",
    "        atom_types=batch.atom_types.to(device),\n",
    "        x_coords=x_coords,\n",
    "        x_velocs=batch.atom_velocs.to(device),\n",
    "        adj_list=batch.adj_list,\n",
    "        edge_batch_idx=batch.edge_batch_idx.to(device),\n",
    "        masked_elements=batch.masked_elements.to(device),\n",
    "        num_samples=num_samples,\n",
    "    )\n",
    "\n",
    "    y_coords = y_coords.squeeze(1)\n",
    "    y_velocs = y_velocs.squeeze(1)\n",
    "    x_coords = x_coords.repeat(num_samples, 1, 1)\n",
    "    x_velocs = torch.randn_like(y_velocs)\n",
    "        \n",
    "    p_yx = model.log_likelihood(\n",
    "        atom_types=batch.atom_types.repeat(x_coords.shape[0], 1).to(device),\n",
    "        y_coords=x_coords,\n",
    "        y_velocs=x_velocs,\n",
    "        x_coords=y_coords,\n",
    "        x_velocs=y_velocs,\n",
    "        adj_list=batch.adj_list,\n",
    "        edge_batch_idx=batch.edge_batch_idx.to(device),\n",
    "        masked_elements=batch.masked_elements.repeat(x_coords.shape[0], 1).to(device),\n",
    "    )\n",
    "\n",
    "    p_xy = p_xy.reshape(p_yx.shape)\n",
    "    \n",
    "    e_pot_x = (openmm_potential_energy_torch(x_coords) / kbT).squeeze(-1)\n",
    "    e_kin_x = compute_kinetic_energy(x_velocs, masses, random_velocs=random_velocs)\n",
    "\n",
    "    assert y_coords.shape == x_coords.shape\n",
    "    e_kin_y = compute_kinetic_energy(y_velocs, masses, random_velocs=random_velocs)\n",
    "    e_kin = e_kin_y - e_kin_x\n",
    "\n",
    "    e_pot_y = (openmm_potential_energy_torch(y_coords) / kbT).squeeze(-1)\n",
    "    e_pot = e_pot_y - e_pot_x\n",
    "    assert e_kin.shape == e_pot.shape\n",
    "    energy = e_pot + e_kin\n",
    "\n",
    "    assert energy.shape == p_xy.shape\n",
    "    exp = energy + p_xy - p_yx\n",
    "\n",
    "    p_acc = torch.min(torch.tensor(1), torch.exp(-exp))"
   ]
  },
  {
   "cell_type": "code",
   "execution_count": null,
   "metadata": {},
   "outputs": [],
   "source": [
    "p_acc.mean()"
   ]
  },
  {
   "cell_type": "code",
   "execution_count": null,
   "metadata": {},
   "outputs": [],
   "source": [
    "plt.figure(figsize=(16, 9))\n",
    "diff_log_likeli = p_xy.cpu().numpy() - p_yx.cpu().numpy()\n",
    "plt.hist(diff_log_likeli, bins=100, label=\"Model samples\", range=(-100,200))\n",
    "plt.xlabel(\"Log-likelihood\")\n",
    "plt.title(\"Log-likelihood difference distribution for model samples\")\n"
   ]
  },
  {
   "cell_type": "code",
   "execution_count": null,
   "metadata": {},
   "outputs": [],
   "source": [
    "from timewarp.utils.evaluation_utils import compute_internal_coordinates\n",
    "\n",
    "bonds, torsions = compute_internal_coordinates(\n",
    "    state0pdbpath, batch.adj_list.cpu().numpy(), y_coords.cpu().numpy()\n",
    ")\n",
    "\n",
    "bonds_traj_conditioning, torsions_traj_conditioning = compute_internal_coordinates(\n",
    "    state0pdbpath, batch.adj_list.cpu().numpy(), batch.atom_coords.cpu().numpy()\n",
    ")"
   ]
  },
  {
   "cell_type": "code",
   "execution_count": null,
   "metadata": {},
   "outputs": [],
   "source": [
    "energies_model = openmm_potential_energy_torch(y_coords.squeeze(1)).cpu().numpy()\n",
    "energy_conditioning = openmm_potential_energy_torch(x_coords[0]).cpu().numpy()\n",
    "\n",
    "npz_traj = np.load(base_dir+f'/.data/simulated-data/trajectory-data/{dataset}/{data_type}/{protein}-traj-arrays.npz')\n",
    "traj_energy_calc = npz_traj['energies'][:, 0]\n",
    "plt.figure(figsize=(16, 9))\n",
    "\n",
    "# potential energy distribution\n",
    "plt.hist(\n",
    "    traj_energy_calc,\n",
    "    bins=100,\n",
    "    color=\"green\",\n",
    "    alpha=0.5,\n",
    "    density=True,\n",
    "    label=\"openMM\",\n",
    ")\n",
    "\n",
    "# potential energy distribution\n",
    "plt.hist(\n",
    "    energies_model,\n",
    "    bins=100,\n",
    "    color=\"orange\",\n",
    "    alpha=0.5,\n",
    "    density=True,\n",
    "    label=\"model\",\n",
    "    range=(traj_energy_calc.min(), 500)\n",
    ");\n",
    "\n",
    "\n",
    "plt.xlabel(\"Energy in kJ/mol\")\n",
    "plt.legend()\n",
    "plt.title(\"Conditional potential energy distribution\")\n",
    "energy_conditioning"
   ]
  },
  {
   "cell_type": "code",
   "execution_count": null,
   "metadata": {},
   "outputs": [],
   "source": [
    "good_energies = (energies_model<0) "
   ]
  },
  {
   "cell_type": "code",
   "execution_count": null,
   "metadata": {},
   "outputs": [],
   "source": [
    "good_energies.sum()/len(energies_model)"
   ]
  },
  {
   "cell_type": "code",
   "execution_count": null,
   "metadata": {},
   "outputs": [],
   "source": [
    "plt.figure(figsize=(16, 9))\n",
    "\n",
    "# potential energy distribution\n",
    "plt.hist(\n",
    "    traj_energy_calc,\n",
    "    bins=100,\n",
    "    color=\"green\",\n",
    "    alpha=0.5,\n",
    "    density=True,\n",
    "    label=f\"openMM - mean={traj_energy_calc.mean():.1f}\",\n",
    ")\n",
    "\n",
    "# potential energy distribution\n",
    "plt.hist(\n",
    "    energies_model,\n",
    "    bins=100,\n",
    "    color=\"orange\",\n",
    "    alpha=0.5,\n",
    "    density=True,\n",
    "    label=f\"model - mean={energies_model[good_energies].mean():.1f}\",\n",
    "    range=(traj_energy_calc.min(), 500)\n",
    ");\n",
    "\n",
    "\n",
    "plt.xlabel(\"Energy in kJ/mol\")\n",
    "plt.legend()\n",
    "plt.title(\"Conditional potential energy distribution\")\n",
    "energy_conditioning"
   ]
  },
  {
   "cell_type": "code",
   "execution_count": null,
   "metadata": {},
   "outputs": [],
   "source": [
    "import matplotlib.cm as cm\n",
    "fig, axes = plt.subplots(1, 3, figsize=(40, 10), sharey=True )\n",
    "for i in range(3):\n",
    "    #plt.title(f\"Ramachandran plot - model\")\n",
    "    im = axes[i].scatter(torsions[0][:, [i]][good_energies], torsions[1][:, [i]][good_energies], c=energies_model[good_energies], cmap='rainbow', s=20)\n",
    "    axes[i].scatter(torsions_traj_conditioning[0][0,i], torsions_traj_conditioning[1][0,i], marker=\"x\", color=\"red\", s=500, linewidths=5 )\n",
    "    axes[i].set_xlim(-np.pi,np.pi)\n",
    "    axes[i].set_ylim(-np.pi,np.pi)\n",
    "    axes[i].set_xlabel(\"Phi\")\n",
    "    axes[0].set_ylabel(\"Psi\")\n",
    "fig.suptitle(f\"Ramachandran plots - model - energy\")\n",
    "#im=cm.ScalarMappable()\n",
    "fig.colorbar(im, ax=axes.ravel().tolist())\n"
   ]
  },
  {
   "cell_type": "code",
   "execution_count": null,
   "metadata": {},
   "outputs": [],
   "source": [
    "import matplotlib.cm as cm\n",
    "acceptance = p_acc.reshape(-1, 1).cpu().numpy()\n",
    "good_acceptance = acceptance > 0.0001\n",
    "fig, axes = plt.subplots(1, 3, figsize=(40, 10), sharey=True )\n",
    "for i in range(3):\n",
    "    #plt.title(f\"Ramachandran plot - model\")\n",
    "    im = axes[i].scatter(torsions[0][:, [i]][good_acceptance], torsions[1][:, [i]][good_acceptance], c=acceptance[good_acceptance], cmap='rainbow', s=20)\n",
    "    axes[i].scatter(torsions_traj_conditioning[0][0,i], torsions_traj_conditioning[1][0,i], marker=\"x\", color=\"red\", s=500, linewidths=5 )\n",
    "    axes[i].set_xlim(-np.pi,np.pi)\n",
    "    axes[i].set_ylim(-np.pi,np.pi)\n",
    "    axes[i].set_xlabel(\"Phi\")\n",
    "    axes[0].set_ylabel(\"Psi\")\n",
    "fig.suptitle(f\"Ramachandran plot - model - acceptance\")\n",
    "#im=cm.ScalarMappable()\n",
    "fig.colorbar(im, ax=axes.ravel().tolist())\n",
    "\n",
    "\n"
   ]
  },
  {
   "cell_type": "code",
   "execution_count": null,
   "metadata": {},
   "outputs": [],
   "source": [
    "import matplotlib as mpl\n",
    "\n",
    "def plot_ramachandrans(torsions, name):\n",
    "    fig, axes = plt.subplots(1, 3, figsize=(33, 10), sharey=True )\n",
    "    for i in range(3):\n",
    "        #plt.title(f\"Ramachandran plot - model\")\n",
    "        axes[i].hist2d(torsions[0][:, i], torsions[1][:, i], bins=100, norm=mpl.colors.LogNorm())\n",
    "        #axes[i].scatter(torsions[0][0, i], torsions[1][0, i], marker=\"x\", color=\"red\", s=500, linewidths=5)\n",
    "        axes[i].set_xlim(-np.pi,np.pi)\n",
    "        axes[i].set_ylim(-np.pi,np.pi)\n",
    "        axes[i].set_xlabel(\"Phi\")\n",
    "        axes[0].set_ylabel(\"Psi\")\n",
    "    fig.suptitle(f\"Ramachandran plots - {name}\")\n"
   ]
  },
  {
   "cell_type": "code",
   "execution_count": null,
   "metadata": {},
   "outputs": [],
   "source": [
    "plot_ramachandrans(torsions, f'{protein} - model')"
   ]
  },
  {
   "cell_type": "code",
   "execution_count": null,
   "metadata": {},
   "outputs": [],
   "source": [
    "batch = batches[0]"
   ]
  },
  {
   "cell_type": "code",
   "execution_count": null,
   "metadata": {},
   "outputs": [],
   "source": [
    "bonds_md, torsions_md = compute_internal_coordinates(\n",
    "    state0pdbpath, batch.adj_list.cpu().numpy(), npz_traj['positions']\n",
    ")\n",
    "plot_ramachandrans(torsions_md, f'{protein} - MD')"
   ]
  },
  {
   "cell_type": "code",
   "execution_count": null,
   "metadata": {},
   "outputs": [],
   "source": [
    "fig, axs = plt.subplots(2, 2, figsize=(16, 16), sharey=True, sharex=True)\n",
    "atom_types = batches[0].atom_types.cpu().detach().numpy()[0]\n",
    "atom_names = [\"C\", \"H\", \"N\", \"O\", \"S\"]\n",
    "adj_list = batches[0].adj_list\n",
    "\n",
    "for i in range(2):\n",
    "    for j in range(2):\n",
    "        idx =  i * 7 + j\n",
    "        axs[i, j].hist(\n",
    "            bonds_md[:, idx],\n",
    "            bins=100,\n",
    "            alpha=0.5,\n",
    "            density=True,\n",
    "            label=\"Boltzmann\",\n",
    "        )\n",
    "        axs[i, j].hist(\n",
    "            bonds[:, idx],\n",
    "            bins=100,\n",
    "            alpha=0.5,\n",
    "            density=True,\n",
    "            label=\"model\",\n",
    "        )\n",
    "        axs[i, j].set_title(\n",
    "            f\"{atom_names[atom_types[adj_list[idx, 0]]]}-{atom_names[atom_types[adj_list[idx, 1]]]}\",\n",
    "            y=0.7,\n",
    "        )\n",
    "axs[i, j].legend()\n",
    "fig.supxlabel(\"Bondlength in nm\")\n",
    "fig.suptitle(f\"Conditional bondlength distribution\")\n"
   ]
  },
  {
   "cell_type": "code",
   "execution_count": null,
   "metadata": {},
   "outputs": [],
   "source": [
    "fig, axs = plt.subplots(5, 5, figsize=(16, 16), sharey=True, sharex=True)\n",
    "atom_types = batches[0].atom_types.cpu().detach().numpy()[0]\n",
    "atom_names = [\"C\", \"H\", \"N\", \"O\", \"S\"]\n",
    "adj_list = batches[0].adj_list\n",
    "\n",
    "for i in range(5):\n",
    "    for j in range(5):\n",
    "        idx =  i * 5 + j\n",
    "        axs[i, j].hist(\n",
    "            bonds_md[:, idx],\n",
    "            bins=100,\n",
    "            alpha=0.5,\n",
    "            density=True,\n",
    "            label=\"Boltzmann\",\n",
    "        )\n",
    "        axs[i, j].hist(\n",
    "            bonds[:, idx],\n",
    "            bins=100,\n",
    "            alpha=0.5,\n",
    "            density=True,\n",
    "            label=\"model\",\n",
    "        )\n",
    "        axs[i, j].set_title(\n",
    "            f\"{atom_names[atom_types[adj_list[idx, 0]]]}-{atom_names[atom_types[adj_list[idx, 1]]]}\",\n",
    "            y=0.7,\n",
    "        )\n",
    "axs[i, j].legend()\n",
    "fig.supxlabel(\"Bondlength in nm\")\n",
    "fig.suptitle(f\"Conditional bondlength distribution\")\n"
   ]
  },
  {
   "cell_type": "code",
   "execution_count": null,
   "metadata": {},
   "outputs": [],
   "source": [
    "traj = mdtraj.load(data_dir+f\"/{protein}-traj-state0.pdb\")\n"
   ]
  },
  {
   "cell_type": "code",
   "execution_count": null,
   "metadata": {
    "scrolled": false
   },
   "outputs": [],
   "source": [
    "plt.figure(figsize=(12, 6))\n",
    "\n",
    "bond_types, coutns = np.unique(np.sort(atom_types[adj_list], axis=-1), return_counts=True, axis=0)\n",
    "\n",
    "\n",
    "for bond_type in bond_types:\n",
    "\n",
    "    bond_idxs = np.where(np.all(np.sort(atom_types[adj_list], axis=-1) == bond_type, axis=1))[0]\n",
    "    bond_md = bonds_md[:, bond_idxs]\n",
    "    bond_model = bonds[:, bond_idxs]\n",
    "    plt.hist(bond_md.flatten(), bins=100, density=True, histtype='step',linewidth=5, label=\"MD\", color=\"C0\");\n",
    "    plt.hist(bond_model.flatten(), bins=100, density=True, histtype='step',linewidth=5, label=\"model\",  color=\"C1\", linestyle=\"--\");\n",
    "    plt.title(f\"{bond_type}\")\n",
    "    if np.all(bond_type == bond_types[0]):\n",
    "        plt.legend();\n",
    "plt.title(\"Bondlength distribution\")\n",
    "plt.xlabel(\"Bondlength in nm\")"
   ]
  },
  {
   "cell_type": "code",
   "execution_count": null,
   "metadata": {},
   "outputs": [],
   "source": []
  },
  {
   "cell_type": "code",
   "execution_count": null,
   "metadata": {},
   "outputs": [],
   "source": []
  },
  {
   "cell_type": "code",
   "execution_count": null,
   "metadata": {},
   "outputs": [],
   "source": []
  },
  {
   "cell_type": "code",
   "execution_count": null,
   "metadata": {},
   "outputs": [],
   "source": []
  },
  {
   "cell_type": "code",
   "execution_count": null,
   "metadata": {},
   "outputs": [],
   "source": []
  },
  {
   "cell_type": "code",
   "execution_count": null,
   "metadata": {},
   "outputs": [],
   "source": []
  }
 ],
 "metadata": {
  "interpreter": {
   "hash": "b1a394f7e91d47d07c147eda16c49d325a6b41d7fcc9a0bc9e6d1e8dd906a574"
  },
  "kernelspec": {
   "display_name": "Python 3 (ipykernel)",
   "language": "python",
   "name": "python3"
  },
  "language_info": {
   "codemirror_mode": {
    "name": "ipython",
    "version": 3
   },
   "file_extension": ".py",
   "mimetype": "text/x-python",
   "name": "python",
   "nbconvert_exporter": "python",
   "pygments_lexer": "ipython3",
   "version": "3.8.10"
  }
 },
 "nbformat": 4,
 "nbformat_minor": 2
}
