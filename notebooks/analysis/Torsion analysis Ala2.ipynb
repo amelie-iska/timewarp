{
 "cells": [
  {
   "attachments": {},
   "cell_type": "markdown",
   "id": "09b93e45",
   "metadata": {},
   "source": [
    "# Torsion analysis\n"
   ]
  },
  {
   "cell_type": "code",
   "execution_count": null,
   "id": "b2d11380",
   "metadata": {},
   "outputs": [],
   "source": [
    "import os\n",
    "import sys\n",
    "import matplotlib.pyplot as plt\n",
    "import matplotlib as mpl\n",
    "plt.rc('font', size=30) \n",
    "\n",
    "from tqdm.auto import tqdm\n",
    "import numpy as np\n",
    "import torch\n",
    "device = torch.device(\"cuda\" if torch.cuda.is_available() else \"cpu\")      "
   ]
  },
  {
   "cell_type": "code",
   "execution_count": null,
   "id": "e2191a2b",
   "metadata": {},
   "outputs": [],
   "source": [
    "module_path = os.path.abspath(os.path.join('../../..'))\n",
    "if module_path not in sys.path:\n",
    "    sys.path.append(module_path)\n",
    "from timewarp.utils.torsion_utils import get_all_torsions, get_all_torsions_model, compute_torsions\n",
    "from timewarp.utils.training_utils import load_model\n",
    "\n",
    "from simulation.md import get_simulation_environment   \n"
   ]
  },
  {
   "attachments": {},
   "cell_type": "markdown",
   "id": "e4660269",
   "metadata": {},
   "source": [
    "### Load model"
   ]
  },
  {
   "cell_type": "code",
   "execution_count": null,
   "id": "954f6ed7",
   "metadata": {},
   "outputs": [],
   "source": [
    "savefile = '../../outputs/custom_attention_transformer_nvp_stepwidth_1000_2022-01-06_16-29-19/best_model.pt'\n",
    "model = load_model(path=savefile).to(device)\n",
    "config = torch.load(savefile)[\"training_config\"]\n",
    "step_width = config.step_width"
   ]
  },
  {
   "attachments": {},
   "cell_type": "markdown",
   "id": "7c9b407d",
   "metadata": {},
   "source": [
    "### Specify the location and name of the data"
   ]
  },
  {
   "cell_type": "code",
   "execution_count": null,
   "id": "c88cb277",
   "metadata": {},
   "outputs": [],
   "source": [
    "protein = 'ad2'\n",
    "dataset = 'AD-1'\n",
    "parameters =  \"alanine-dipeptide\"\n",
    "data_dir = f'../../.data/simulated-data/trajectory-data/{dataset}/test'\n",
    "state0pdbpath = os.path.join(data_dir, f\"{protein}-traj-state0.pdb\")\n"
   ]
  },
  {
   "attachments": {},
   "cell_type": "markdown",
   "id": "ba27f21d",
   "metadata": {},
   "source": [
    "Get the torsion angle for the first 10000 target samples in the test set"
   ]
  },
  {
   "cell_type": "code",
   "execution_count": null,
   "id": "25af4695",
   "metadata": {},
   "outputs": [],
   "source": [
    "dihedrals = get_all_torsions(protein, data_dir, step_width, n_initial_samples=10000, targets=True);"
   ]
  },
  {
   "cell_type": "code",
   "execution_count": null,
   "id": "ee67fc5f",
   "metadata": {},
   "outputs": [],
   "source": [
    "dihedral_names = [\"phi\", \"psi\", \"chi1\", \"chi2\", \"chi3\", \"chi4\", \"omega\"]\n",
    "dihedral_atoms = [\"(C-C-N-C)\", \"(C-N-C-C)\", \"\", \"\", \"\", \"\", \"(N-C-C-N)\"]"
   ]
  },
  {
   "attachments": {},
   "cell_type": "markdown",
   "id": "5971bbc0",
   "metadata": {},
   "source": [
    "### Ramachandran-Plot for Alanine Dipeptide - MD samples"
   ]
  },
  {
   "cell_type": "code",
   "execution_count": null,
   "id": "edbc2859",
   "metadata": {},
   "outputs": [],
   "source": [
    "import matplotlib as mpl\n",
    "\n",
    "plt.figure(figsize=(10, 10))\n",
    "plt.title('Alanine Dipeptide - MD')\n",
    "plt.hist2d(dihedrals.phi[:, 0, 0], dihedrals.psi[:, 0, 0], bins=100, norm=mpl.colors.LogNorm())\n",
    "plt.xlabel(dihedral_names[0])\n",
    "plt.ylabel(dihedral_names[1]);"
   ]
  },
  {
   "attachments": {},
   "cell_type": "markdown",
   "id": "496b288e",
   "metadata": {},
   "source": [
    "Get the torsion angle for the first 10000 conditioning samples in the test set. \n",
    "\n",
    "The output will be List with six elements, i.e. one for each of the possible 7 torsion angles types. Each element contains a np-array with shape [B, S, n_angles], where B is the number of initial samples n_initial_samples, S is the number of samples generated from a single conditioning state (this is one for openMM trajectories) and the number of torsion angles of that type in the molecule. \n",
    "\n",
    "In the case of Alanine Dipeptide, there are only one phi and one psi angle."
   ]
  },
  {
   "cell_type": "code",
   "execution_count": null,
   "id": "4247af1a",
   "metadata": {},
   "outputs": [],
   "source": [
    "dihedrals_conditioning = get_all_torsions(protein, data_dir, step_width, n_initial_samples=10000, targets=False);"
   ]
  },
  {
   "attachments": {},
   "cell_type": "markdown",
   "id": "e74db499",
   "metadata": {},
   "source": [
    "# Plot transitions of the phi angle"
   ]
  },
  {
   "cell_type": "code",
   "execution_count": null,
   "id": "38fdf24a",
   "metadata": {},
   "outputs": [],
   "source": [
    "anlge_idx = 0\n",
    "plt.figure(figsize=(10, 10))\n",
    "plt.title('Alanine Dipeptide phi transitions - openMM')\n",
    "plt.hist2d(dihedrals_conditioning.phi[:, 0, 0], dihedrals.phi[:, 0, 0], bins=100, norm=mpl.colors.LogNorm())\n",
    "plt.xlabel(f\"Initial {dihedral_names[anlge_idx]} angle\")\n",
    "plt.ylabel(f\"Sampled {dihedral_names[anlge_idx]} angle\")"
   ]
  },
  {
   "attachments": {},
   "cell_type": "markdown",
   "id": "ddc9c510",
   "metadata": {},
   "source": [
    "Now we want to get the torsion angles of model samples as well. As the model is currently unable to produce a Markov Chain on its own, we sample conditioned on test set initial samples. "
   ]
  },
  {
   "cell_type": "code",
   "execution_count": null,
   "id": "50e47972",
   "metadata": {},
   "outputs": [],
   "source": [
    "dihedrals_model = get_all_torsions_model(protein, data_dir, step_width, model, n_initial_samples=10000, n_samples_model=1, device=device);"
   ]
  },
  {
   "attachments": {},
   "cell_type": "markdown",
   "id": "5bccf045",
   "metadata": {},
   "source": [
    "The corresponding Ramachandran and transition plots look quite well. However, remember that we conditioned on samples from the test set. "
   ]
  },
  {
   "cell_type": "code",
   "execution_count": null,
   "id": "8fa36ac1",
   "metadata": {},
   "outputs": [],
   "source": [
    "plt.figure(figsize=(10, 10))\n",
    "plt.title('Alanine Dipeptide - model')\n",
    "plt.hist2d(dihedrals_model.phi[:, 0, 0], dihedrals_model.psi[:, 0, 0], bins=100, norm=mpl.colors.LogNorm())\n",
    "plt.xlabel(dihedral_names[0])\n",
    "plt.ylabel(dihedral_names[1]);"
   ]
  },
  {
   "cell_type": "code",
   "execution_count": null,
   "id": "925a35ff",
   "metadata": {},
   "outputs": [],
   "source": [
    "anlge_idx = 0\n",
    "plt.figure(figsize=(10, 10))\n",
    "plt.title('Alanine Dipeptide phi transitions - model')\n",
    "plt.hist2d(dihedrals_conditioning.phi[:, 0, 0], dihedrals_model.phi[:, 0, 0], bins=100, norm=mpl.colors.LogNorm())\n",
    "plt.xlabel(f\"Initial {dihedral_names[anlge_idx]} angle\")\n",
    "plt.ylabel(f\"Sampled {dihedral_names[anlge_idx]} angle\")"
   ]
  },
  {
   "attachments": {},
   "cell_type": "markdown",
   "id": "fbf3dc9c",
   "metadata": {},
   "source": [
    "## Individual torsion distributions\n",
    "\n",
    "We can also look at individual torsion angles. "
   ]
  },
  {
   "cell_type": "code",
   "execution_count": null,
   "id": "7c8c394b",
   "metadata": {},
   "outputs": [],
   "source": [
    "for i, angle_name in enumerate(dihedral_names):\n",
    "    # As there is only one torsion angle per angle typ, we don not iterate over j\n",
    "    j = 0\n",
    "    angle = getattr(dihedrals, angle_name)\n",
    "    angle_model = getattr(dihedrals_model, angle_name)\n",
    "    # skip if torsion angle is empty\n",
    "    if angle.size == 0:\n",
    "        continue\n",
    "    plt.figure(figsize=(16,9))\n",
    "    plt.hist(angle_model[:,0, j], bins=100, label=\"model\", density=True, alpha=0.5)\n",
    "    plt.hist(angle[:,0, j], bins=100, label=\"OpenMM\", density=True, alpha=0.5)\n",
    "    plt.legend()\n",
    "    plt.xlabel(\"Angle in Rad\")\n",
    "    plt.title(angle_name+f\"-{j}\"+f\" {dihedral_atoms[i]}\")"
   ]
  },
  {
   "cell_type": "code",
   "execution_count": null,
   "id": "47461ae4",
   "metadata": {},
   "outputs": [],
   "source": []
  },
  {
   "attachments": {},
   "cell_type": "markdown",
   "id": "522523b2",
   "metadata": {},
   "source": [
    "## Torsion distribution for a single conditioning state\n",
    "This can be used to compare how good we match conditional target distribution.\n",
    "First choose a some conditioning state. In this case we use a conditioning state from the test data"
   ]
  },
  {
   "cell_type": "code",
   "execution_count": null,
   "id": "42c1452e",
   "metadata": {},
   "outputs": [],
   "source": [
    "traj_dir = os.path.join(data_dir, f\"{protein}-traj-arrays.npz\")\n",
    "traj_npz = np.load(traj_dir)\n",
    "conditioning_coords = traj_npz['positions'][0]\n",
    "conditioning_velocs = traj_npz['velocities'][0]\n"
   ]
  },
  {
   "attachments": {},
   "cell_type": "markdown",
   "id": "523fa9c5",
   "metadata": {},
   "source": [
    "As we do not have such data in the data sets, we have to create them with openMM"
   ]
  },
  {
   "cell_type": "code",
   "execution_count": null,
   "id": "1f779daf",
   "metadata": {},
   "outputs": [],
   "source": [
    "sim = get_simulation_environment(state0pdbpath, parameters)\n",
    "n_samples= 100\n",
    "positions = []\n",
    "for n in tqdm(range(0, n_samples)):\n",
    "    sim.context.setPositions(conditioning_coords)\n",
    "    sim.context.setVelocities(conditioning_velocs)\n",
    "    positions_traj = []\n",
    "    sim.step(step_width)\n",
    "    state = sim.context.getState(getPositions=True)\n",
    "    positions_traj.append(state.getPositions(asNumpy=True)._value)\n",
    "    positions.append(positions_traj)\n",
    "    "
   ]
  },
  {
   "attachments": {},
   "cell_type": "markdown",
   "id": "472c28e8",
   "metadata": {},
   "source": [
    "The shape of the positions has to be [B, S, V, 3], where B is the number of initial conditional samples, S is the number of sampler per conditional sample, and V is the number of atoms in the molecule."
   ]
  },
  {
   "cell_type": "code",
   "execution_count": null,
   "id": "b32a7afb",
   "metadata": {},
   "outputs": [],
   "source": [
    "positions = np.array(positions)\n",
    "positions = np.transpose(positions, axes=(1,0,2,3))\n"
   ]
  },
  {
   "cell_type": "code",
   "execution_count": null,
   "id": "0fb7674b",
   "metadata": {},
   "outputs": [],
   "source": [
    "dihedrals_single_conditioning = compute_torsions(positions, state0pdbpath)"
   ]
  },
  {
   "attachments": {},
   "cell_type": "markdown",
   "id": "9f33c603",
   "metadata": {},
   "source": [
    "Now we produce samples form th same conditioning state with the model"
   ]
  },
  {
   "cell_type": "code",
   "execution_count": null,
   "id": "762f6bb3",
   "metadata": {},
   "outputs": [],
   "source": [
    "dihedrals_single_conditioning_model =  get_all_torsions_model(protein, data_dir, step_width, model, n_initial_samples=1, n_samples_model=1000, device=device)\n"
   ]
  },
  {
   "attachments": {},
   "cell_type": "markdown",
   "id": "f3bbf282",
   "metadata": {},
   "source": [
    "Ideally the torsion distribution of the model would be close to the distribution created with openMM"
   ]
  },
  {
   "cell_type": "code",
   "execution_count": null,
   "id": "d55fb32f",
   "metadata": {},
   "outputs": [],
   "source": [
    "for i, angle_name in enumerate(dihedral_names):\n",
    "    # As there is only one torsion angle per angle typ, we don not iterate over j\n",
    "    j = 0\n",
    "    angle_target = getattr(dihedrals, angle_name)\n",
    "    angle_conditional = getattr(dihedrals_conditioning, angle_name)\n",
    "    angle_model = getattr(dihedrals_single_conditioning_model, angle_name)\n",
    "    angle_openmm = getattr(dihedrals_single_conditioning, angle_name)\n",
    "    # skip if torsion angle is empty\n",
    "    if angle_target.size == 0:\n",
    "        continue\n",
    "    plt.figure(figsize=(16,9))\n",
    "    plt.hist(angle_target[:, 0, j], bins=100, label=\"Gound truth\", density=True, alpha=0.1)\n",
    "    plt.hist(angle_openmm[0, :, j], bins=30, label=f\"OpenMM stepwidth {step_width}\", density=True, alpha=0.5)\n",
    "    plt.hist(angle_model[0, :, j], bins=100, label=f\"Model stepwidth {step_width}\", density=True, alpha=0.5)\n",
    "    plt.axvline(angle_conditional[0, 0, j], 0, 0.9, color=\"green\", linewidth=5, label=\"conditioning\")\n",
    "    plt.axvline(angle_target[0, 0, j], 0, 0.9, color=\"black\", linewidth=5, label=\"target\")\n",
    "    plt.legend()\n",
    "    plt.xlabel(\"Angle in Rad\")\n",
    "    plt.title(angle_name+f\"-{j}\"+f\" {dihedral_atoms[i]}\")"
   ]
  },
  {
   "cell_type": "code",
   "execution_count": null,
   "id": "a402d454",
   "metadata": {},
   "outputs": [],
   "source": []
  },
  {
   "cell_type": "code",
   "execution_count": null,
   "id": "890fb36b",
   "metadata": {},
   "outputs": [],
   "source": []
  }
 ],
 "metadata": {
  "kernelspec": {
   "display_name": "Python 3 (ipykernel)",
   "language": "python",
   "name": "python3"
  },
  "language_info": {
   "codemirror_mode": {
    "name": "ipython",
    "version": 3
   },
   "file_extension": ".py",
   "mimetype": "text/x-python",
   "name": "python",
   "nbconvert_exporter": "python",
   "pygments_lexer": "ipython3",
   "version": "3.8.10"
  }
 },
 "nbformat": 4,
 "nbformat_minor": 5
}
