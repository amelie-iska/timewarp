{
 "cells": [
  {
   "cell_type": "code",
   "execution_count": null,
   "id": "610eee55",
   "metadata": {},
   "outputs": [],
   "source": [
    "%load_ext autoreload\n",
    "%autoreload 2"
   ]
  },
  {
   "cell_type": "code",
   "execution_count": null,
   "id": "519bc20c",
   "metadata": {},
   "outputs": [],
   "source": [
    "import os\n",
    "import pickle\n",
    "import numpy as np\n",
    "import mdtraj as md\n",
    "from timewarp.utils.evaluation_utils import compute_internal_coordinates\n",
    "from timewarp.datasets import RawMolDynDataset\n",
    "from timewarp.dataloader import (\n",
    "    DenseMolDynBatch,\n",
    "    moldyn_dense_collate_fn,\n",
    ")\n",
    "from timewarp.utils.tica_utils import tica_features, run_tica, plot_tic01, plot_free_energy\n",
    "from itertools import islice\n",
    "import matplotlib.pyplot as plt\n",
    "import matplotlib as mpl\n",
    "from matplotlib.colors import LogNorm\n",
    "\n",
    "plt.rc('font', size=35) \n"
   ]
  },
  {
   "cell_type": "code",
   "execution_count": null,
   "id": "57e38760",
   "metadata": {},
   "outputs": [],
   "source": [
    "base_dir = \"../../\"\n",
    "#data_dir = base_dir + f\".data/simulated-data/trajectory-data/4AA-huge/val\" \n",
    "data_dir = base_dir + f\".data/simulated-data/trajectory-data/4AA-huge/test\" \n",
    "\n",
    "protein = \"LAKS\"\n",
    "#protein = \"SAGA\"\n",
    "#protein = \"GTSG\"\n",
    "#protein = \"DSGA\"\n",
    "#protein = \"DPAS\"\n",
    "#protein = \"GNGA\"\n",
    "#protein = \"RKGR\"\n",
    "#protein =\"MGRS\"\n",
    "protein = \"LPEM\"\n",
    "\n",
    "raw_dataset = RawMolDynDataset(data_dir=data_dir, step_width=10000)\n",
    "pdb_names = [protein]\n",
    "raw_iterator = raw_dataset.make_iterator(pdb_names)\n",
    "batches = (moldyn_dense_collate_fn([datapoint]) for datapoint in raw_iterator)\n",
    "batches = list(islice(batches, 200))  # Load max 20 timepoints.\n",
    "batch = batches[0]\n",
    "state0pdbpath = os.path.join(data_dir, f\"{protein}-traj-state0.pdb\")\n",
    "parameters =  \"T1B-peptides\"\n",
    "adj_list = batch.adj_list\n"
   ]
  },
  {
   "cell_type": "code",
   "execution_count": null,
   "id": "05d7df83",
   "metadata": {},
   "outputs": [],
   "source": [
    "npz =  np.load(data_dir+f\"/{protein}-traj-arrays.npz\")\n",
    "xyz =  npz['positions'][::5]\n",
    "\n",
    "topology = md.load(state0pdbpath).topology\n",
    "\n",
    "bonds, torsions = compute_internal_coordinates(\n",
    "    state0pdbpath, adj_list.cpu().numpy(), xyz\n",
    ")\n",
    "trajectory = md.Trajectory(\n",
    "    xyz=xyz,\n",
    "    topology=topology\n",
    ")"
   ]
  },
  {
   "cell_type": "code",
   "execution_count": null,
   "id": "15e4765c",
   "metadata": {},
   "outputs": [],
   "source": [
    "# TICA can be loaded if constructed before\n",
    "\n",
    "DO_LOAD = False\n",
    "\n",
    "features = tica_features(trajectory)\n",
    "\n",
    "if DO_LOAD:\n",
    "    with open(\"tica_model.pic\", \"rb\") as f:\n",
    "        tica_model = pickle.load(f)\n",
    "else:\n",
    "    tica_model = run_tica(trajectory, lagtime=100)\n",
    "    with open(\"tica_model.pic\", \"wb\") as f:\n",
    "        pickle.dump(tica_model, f)\n",
    "        \n",
    "tics = tica_model.transform(features)"
   ]
  },
  {
   "attachments": {},
   "cell_type": "markdown",
   "id": "0f7c8649",
   "metadata": {},
   "source": [
    "## Analyze TICS"
   ]
  },
  {
   "cell_type": "code",
   "execution_count": null,
   "id": "c412f498",
   "metadata": {},
   "outputs": [],
   "source": [
    "fig, ax = plt.subplots(figsize=(10,10))\n",
    "plot_tic01(ax, tics, \"MD\", tics_lims=tics)"
   ]
  },
  {
   "cell_type": "code",
   "execution_count": null,
   "id": "c96a768a",
   "metadata": {},
   "outputs": [],
   "source": [
    "for i in range(2):\n",
    "    plt.figure(figsize=(16, 9))\n",
    "    plt.plot(tics[:, i])\n",
    "    plt.title(f\"TIC {i} - MD\")"
   ]
  },
  {
   "cell_type": "code",
   "execution_count": null,
   "id": "632b0942",
   "metadata": {},
   "outputs": [],
   "source": [
    "fig, ax = plt.subplots(figsize=(10,10))\n",
    "plot_free_energy(ax, tics, \"tic0\")"
   ]
  },
  {
   "attachments": {},
   "cell_type": "markdown",
   "id": "c8c71d3a",
   "metadata": {},
   "source": [
    "## Load Data for model"
   ]
  },
  {
   "cell_type": "code",
   "execution_count": null,
   "id": "a374a523",
   "metadata": {},
   "outputs": [],
   "source": [
    "def load_trajectory_from_dir(directory_name, protein, stride=1):\n",
    "    directory = os.fsencode(directory_name)\n",
    "    trajectories = []\n",
    "    times = []\n",
    "    for i in range(len(os.listdir(directory))-1):\n",
    "        npz = np.load(directory_name+f\"/{protein}_trajectory_model_{i}.npz\")\n",
    "        trajectories.append(npz['positions'][::stride])\n",
    "        try:\n",
    "            times.append(npz['time'])\n",
    "        except:\n",
    "            pass\n",
    "    return np.concatenate(trajectories, axis=0), np.array(times)"
   ]
  },
  {
   "cell_type": "code",
   "execution_count": null,
   "id": "047b1a06",
   "metadata": {},
   "outputs": [],
   "source": [
    "initial_state=1\n",
    "\n",
    "\n",
    "sampled_coords, times = load_trajectory_from_dir(dir_model_samples, protein)\n",
    "traj_model = md.Trajectory(\n",
    "    xyz=sampled_coords,\n",
    "    topology=topology\n",
    ")\n"
   ]
  },
  {
   "cell_type": "code",
   "execution_count": null,
   "id": "d814a7e0",
   "metadata": {},
   "outputs": [],
   "source": [
    "_, idxs, counts = np.unique(sampled_coords[:, 0, 0], return_index=True, return_counts=True)\n",
    "stuck_idx = np.where(counts > 50000)\n",
    "idxs[stuck_idx]\n"
   ]
  },
  {
   "cell_type": "code",
   "execution_count": null,
   "id": "66beb371",
   "metadata": {},
   "outputs": [],
   "source": [
    "len(traj_model.xyz)"
   ]
  },
  {
   "cell_type": "code",
   "execution_count": null,
   "id": "44418df8",
   "metadata": {},
   "outputs": [],
   "source": [
    "acceptance = (len(np.unique(traj_model.xyz[:, 0, 0]))-1)/len(traj_model.xyz) / 10\n",
    "acceptance "
   ]
  },
  {
   "cell_type": "code",
   "execution_count": null,
   "id": "d699acc3",
   "metadata": {},
   "outputs": [],
   "source": [
    "feat_model = tica_features(traj_model)\n",
    "tics_model = tica_model.transform(feat_model)\n",
    "fig, ax = plt.subplots(figsize=(10,10))\n",
    "plot_tic01(ax, tics_model, \"model\", tics_lims=tics)\n"
   ]
  },
  {
   "cell_type": "code",
   "execution_count": null,
   "id": "7ed1005a",
   "metadata": {},
   "outputs": [],
   "source": [
    "for i in range(2):\n",
    "    plt.figure(figsize=(16, 9))\n",
    "    plt.plot(tics_model[:, i])\n",
    "    plt.title(f\"TIC {i} - MD\")"
   ]
  },
  {
   "cell_type": "code",
   "execution_count": null,
   "id": "78e83dd8",
   "metadata": {},
   "outputs": [],
   "source": [
    "fig, ax = plt.subplots(figsize=(10,10))\n",
    "plot_tic01(ax, tics, \"MD\", tics_lims=tics)\n",
    "plot_tic01(ax, tics_model, f\"{protein} MD - model\", tics_lims=tics, cmap='autumn')\n"
   ]
  },
  {
   "cell_type": "code",
   "execution_count": null,
   "id": "d085fb15",
   "metadata": {
    "scrolled": false
   },
   "outputs": [],
   "source": [
    "fig, ax = plt.subplots(figsize=(10,10))\n",
    "plot_free_energy(ax, tics, \"tic0\", \"MD\")\n",
    "plot_free_energy(ax, tics_model, \"tic0\", \"model\")\n",
    "ax.legend();\n",
    "fig, ax = plt.subplots(figsize=(10,10))\n",
    "plot_free_energy(ax, tics, \"tic1\", \"MD\", axis=1)\n",
    "plot_free_energy(ax, tics_model, \"tic1\", \"model\", axis=1)\n",
    "ax.legend();"
   ]
  },
  {
   "attachments": {},
   "cell_type": "markdown",
   "id": "f6521b6d",
   "metadata": {},
   "source": [
    "## Ramachandran plot"
   ]
  },
  {
   "cell_type": "code",
   "execution_count": null,
   "id": "7d89942d",
   "metadata": {},
   "outputs": [],
   "source": [
    "def plot_ramachandrans(torsions, name):\n",
    "    fig, axes = plt.subplots(1, 3, figsize=(33, 10), sharey=True )\n",
    "    for i in range(3):\n",
    "        #plt.title(f\"Ramachandran plot - model\")\n",
    "        axes[i].hist2d(torsions[0][:, i], torsions[1][:, i], bins=100, norm=mpl.colors.LogNorm())\n",
    "        axes[i].scatter(torsions[0][0, i], torsions[1][0, i], marker=\"x\", color=\"red\", s=500, linewidths=5)\n",
    "        axes[i].set_xlim(-np.pi,np.pi)\n",
    "        axes[i].set_ylim(-np.pi,np.pi)\n",
    "        axes[i].set_xlabel(\"Phi\")\n",
    "        axes[0].set_ylabel(\"Psi\")\n",
    "    fig.suptitle(f\"Ramachandran plots - {name}\")\n"
   ]
  },
  {
   "cell_type": "code",
   "execution_count": null,
   "id": "ad0699e5",
   "metadata": {
    "scrolled": false
   },
   "outputs": [],
   "source": [
    "bonds_model_sampled, torsions_model_sampled = compute_internal_coordinates(\n",
    "    state0pdbpath, adj_list.cpu().numpy(), traj_model.xyz\n",
    ")\n",
    "plot_ramachandrans(torsions_model_sampled, \"model\")\n",
    "plot_ramachandrans(torsions, \"MD\")"
   ]
  },
  {
   "attachments": {},
   "cell_type": "markdown",
   "id": "e24dd384",
   "metadata": {},
   "source": [
    "# Speed-up"
   ]
  },
  {
   "cell_type": "code",
   "execution_count": null,
   "id": "4f5c7795",
   "metadata": {},
   "outputs": [],
   "source": [
    "import arviz as az\n",
    "\n",
    "def ESS(autocorrelations, spacing=1, cut_off_at_zero=True):\n",
    "    if cut_off_at_zero:\n",
    "        steps_until_zero = np.where(autocorrelations<=0)[0][0]\n",
    "    else:\n",
    "        steps_until_zero = -1\n",
    "    Neff = 1/(-1 + 2 * spacing * np.abs(autocorrelations[:steps_until_zero]).sum())\n",
    "    return Neff"
   ]
  },
  {
   "cell_type": "code",
   "execution_count": null,
   "id": "66b3fde1",
   "metadata": {},
   "outputs": [],
   "source": [
    "model_time_per_step = times.sum() / (len(sampled_coords) *10)\n",
    "# Check if it is a new MD run, where the time gets saved\n",
    "try:\n",
    "    time_md = np.load(data_dir + f\"/{protein}-traj-time.npy\")\n",
    "    md_time_per_step = time_md / (2*10**9)\n",
    "except FileNotFoundError:\n",
    "    print(\"Using avarage time for MD simulation\")\n",
    "    md_time_per_step = 0.00011304\n",
    "    \n",
    "model_time_per_step, md_time_per_step"
   ]
  },
  {
   "cell_type": "code",
   "execution_count": null,
   "id": "67c27481",
   "metadata": {
    "scrolled": false
   },
   "outputs": [],
   "source": [
    "# nuber of MD steps due to spacing (10000 for all 2AA and 4AA)\n",
    "num_md_steps = 10000\n",
    "\n",
    "# number of staeps to plot\n",
    "max_md_steps= 10000\n",
    "num_model_steps = 100000\n",
    "\n",
    "# TIC 1\n",
    "autocorrelation_model = az.autocorr(tics_model[:, 1])\n",
    "autocorrelation_openMM = az.autocorr(tics[:, 1])\n",
    "ess_model_s = ESS(autocorrelation_model, spacing=1)/(model_time_per_step * 10)\n",
    "ess_md_s = ESS(autocorrelation_openMM, spacing=1)/(md_time_per_step * num_md_steps)\n",
    "plt.figure(figsize=(16,9))\n",
    "plt.plot(np.arange(0, num_model_steps) * model_time_per_step * 10, autocorrelation_model[:num_model_steps], label=f\"model | ESS/t = {ess_model_s:.3f}/s\", linewidth=5)\n",
    "plt.plot(np.arange(0, max_md_steps) * md_time_per_step * num_md_steps, autocorrelation_openMM[:max_md_steps], label=f\"MD | ESS/t = {ess_md_s:.3f}/s\", linewidth=5)\n",
    "plt.axhline(0, color='black')\n",
    "plt.semilogx()\n",
    "plt.ylabel(\"TIC 1 autocorrelation\")\n",
    "plt.title(\"TIC 1 autocorrelations\")\n",
    "plt.xlabel(\"Lag time in s\")\n",
    "plt.legend();\n",
    "\n",
    "\n",
    "# TIC 0\n",
    "autocorrelation_model = az.autocorr(tics_model[:, 0])\n",
    "autocorrelation_openMM = az.autocorr(tics[:, 0])\n",
    "ess_model_s = ESS(autocorrelation_model, spacing=1)/(model_time_per_step * 10)\n",
    "ess_md_s = ESS(autocorrelation_openMM, spacing=1)/(md_time_per_step * num_md_steps)\n",
    "plt.figure(figsize=(16,9))\n",
    "plt.plot(np.arange(0, num_model_steps) * model_time_per_step * 10, autocorrelation_model[:num_model_steps], label=f\"model | ESS/t = {ess_model_s:.3f}/s\", linewidth=5)\n",
    "plt.plot(np.arange(0, max_md_steps) * md_time_per_step * num_md_steps, autocorrelation_openMM[:max_md_steps], label=f\"MD | ESS/t = {ess_md_s:.3f}/s\", linewidth=5)\n",
    "plt.axhline(0, color='black')\n",
    "plt.semilogx()\n",
    "plt.ylabel(\"TIC 0 autocorrelation\")\n",
    "plt.title(\"TIC 0 autocorrelations\")\n",
    "plt.xlabel(\"Lag time in s\")\n",
    "plt.legend();\n",
    "\n",
    "plt.figure(figsize=(16,9))\n",
    "plt.plot(np.arange(0, num_model_steps) * model_time_per_step * 10, autocorrelation_model[:num_model_steps], label=f\"model | ESS/t = {ess_model_s:.3f}/s\", linewidth=5)\n",
    "plt.plot(np.arange(0, max_md_steps) * md_time_per_step * num_md_steps, autocorrelation_openMM[:max_md_steps], label=f\"MD | ESS/t = {ess_md_s:.3f}/s\", linewidth=5)\n",
    "plt.axhline(0, color='black')\n",
    "plt.ylabel(\"TIC 0 autocorrelation\")\n",
    "plt.title(\"TIC 0 autocorrelations\")\n",
    "plt.xlabel(\"Lag time in s\")\n",
    "plt.legend();"
   ]
  },
  {
   "cell_type": "code",
   "execution_count": null,
   "id": "a6b8936b",
   "metadata": {},
   "outputs": [],
   "source": [
    "assert False"
   ]
  },
  {
   "attachments": {},
   "cell_type": "markdown",
   "id": "8c787fc1",
   "metadata": {},
   "source": [
    "## Save for paper figures"
   ]
  },
  {
   "cell_type": "code",
   "execution_count": null,
   "id": "3ca8e0d6",
   "metadata": {},
   "outputs": [],
   "source": [
    "save = False\n"
   ]
  },
  {
   "cell_type": "code",
   "execution_count": null,
   "id": "d8a576e5",
   "metadata": {},
   "outputs": [],
   "source": [
    "from matplotlib.colors import LogNorm\n",
    "plt.rc('font', size=35) \n",
    "\n",
    "def plot_tic01_2(ax, tics, tics_lims=tics, cmap='viridis'):\n",
    "    _ = ax.hist2d(tics[:,0], tics[:,1], bins=100, norm=LogNorm(), cmap=cmap, rasterized=True)\n",
    "\n",
    "    ax.set_ylim(tics_lims[:,1].min(),tics_lims[:,1].max())\n",
    "    ax.set_xlim(tics_lims[:,0].min(),tics_lims[:,0].max())\n",
    "\n",
    "    \n",
    "def plot_free_energy2(ax, torison, label=None, linestyle='-'):\n",
    "    hist, edges = np.histogram(torison, bins=100, density=True)\n",
    "    free_energy = -np.log(hist/hist.max())\n",
    "    centers = 0.5*(edges[1:] + edges[:-1])\n",
    "    ax.plot(centers, free_energy, linewidth=5, label=label, linestyle=linestyle)\n",
    "    #ax.set_xlabel(xlabel)\n",
    "    #plt.title(\"Free energy\")\n",
    "    "
   ]
  },
  {
   "cell_type": "code",
   "execution_count": null,
   "id": "7fa300dd",
   "metadata": {},
   "outputs": [],
   "source": [
    "\n",
    "tics_model_exp = exploration['tics_model']\n",
    "energies_model_exp = exploration['energies_model']\n"
   ]
  },
  {
   "cell_type": "code",
   "execution_count": null,
   "id": "29eb8900",
   "metadata": {},
   "outputs": [],
   "source": [
    "from matplotlib.ticker import FormatStrFormatter\n",
    "\n",
    "fig, axes = plt.subplots(1, 3, figsize=(18, 6), sharey=True, sharex=True)\n",
    "plot_tic01_2(axes[0], tics)\n",
    "plot_tic01_2(axes[1], tics_model_exp)\n",
    "plot_tic01_2(axes[2], tics_model)\n",
    "axes[0].set_xlabel(\"TIC 0\")\n",
    "axes[1].set_xlabel(\"TIC 0\")\n",
    "axes[2].set_xlabel(\"TIC 0\")\n",
    "axes[0].set_ylabel(\"TIC 1\")\n",
    "axes[0].set_title(\"MD\")\n",
    "axes[1].set_title(\"Exploration\")\n",
    "axes[2].set_title(\"MCMC\")\n",
    "axes[0].yaxis.set_major_formatter(FormatStrFormatter('%.1f'))\n",
    "plt.subplots_adjust(wspace=0, hspace=0)\n",
    "\n"
   ]
  },
  {
   "cell_type": "code",
   "execution_count": null,
   "id": "8b7f5fc2",
   "metadata": {},
   "outputs": [],
   "source": [
    "MCMC = True\n",
    "fig, axes = plt.subplots(1, 2, figsize=(12, 6), sharey=True)\n",
    "plot_free_energy2(axes[0], tics[:, 0],\"MD\")\n",
    "plot_free_energy2(axes[0], tics_model_exp[:, 0],\"Exploration\", linestyle=\"-.\")\n",
    "if MCMC:\n",
    "    plot_free_energy2(axes[0], tics_model[:, 0],\"MCMC\", linestyle=\"--\")\n",
    "plot_free_energy2(axes[1], tics[:, 1],\"MD\")\n",
    "plot_free_energy2(axes[1], tics_model_exp[:, 1],\"Exploration\", linestyle=\"-.\")\n",
    "if MCMC:\n",
    "    plot_free_energy2(axes[1], tics_model[:, 1],\"MCMC\", linestyle=\"--\")\n",
    "#axes[0].set_xlim(-np.pi,np.pi)\n",
    "axes[0].set_xlabel(\"TIC 0\")\n",
    "axes[0].set_ylabel(\"Free energy\")\n",
    "#axes[0].set_ylabel(\"F/k_B T\")\n",
    "axes[1].set_xlabel(\"TIC 1\")\n",
    "axes[1].xaxis.set_major_formatter(FormatStrFormatter('%.1f'))\n",
    "axes[1].xaxis.set_major_locator(plt.MaxNLocator(2))\n",
    "\n",
    "axes[1].legend(fontsize=25)\n"
   ]
  },
  {
   "cell_type": "code",
   "execution_count": null,
   "id": "38988efb",
   "metadata": {},
   "outputs": [],
   "source": [
    "fig, axs = plt.subplots(2, 1, figsize=(11, 6), sharey=True, sharex=True)\n",
    "sampling_time_md = np.arange(len(tics)) * md_time_per_step * num_md_steps / 3600\n",
    "sampling_time_model = np.arange(len(tics_model)) * model_time_per_step * 10 /3600\n",
    "max_time = min(sampling_time_md[-1],sampling_time_model[-1])\n",
    "axs[0].plot(sampling_time_md[sampling_time_md<max_time], tics[sampling_time_md<max_time, 0], linewidth=.1)\n",
    "axs[1].plot(sampling_time_model[sampling_time_model<max_time], tics_model[sampling_time_model<max_time, 0], linewidth=.1)\n",
    "axs[1].set_xlabel(\"Wall-clock sampling time in h\")\n",
    "axs[1].set_ylabel(\"TIC 0\")\n",
    "axs[0].set_ylabel(\"TIC 0\")\n",
    "axs[0].set_title(\"MD\")\n",
    "axs[1].set_title(\"model\")\n"
   ]
  },
  {
   "cell_type": "code",
   "execution_count": null,
   "id": "35b13767",
   "metadata": {},
   "outputs": [],
   "source": [
    "\n",
    "plt.figure(figsize=(13,6))\n",
    "plt.plot(np.arange(0, max_md_steps) * md_time_per_step * num_md_steps, autocorrelation_openMM[:max_md_steps], label=f\"MD | ESS/t = {ess_md_s:.4f}/s\", linewidth=5)\n",
    "plt.plot(np.arange(0, num_model_steps) * model_time_per_step * 10, autocorrelation_model[:num_model_steps], label=f\"model | ESS/t = {ess_model_s:.4f}/s\", linewidth=5)\n",
    "plt.axhline(0, color='black')\n",
    "plt.semilogx()\n",
    "plt.ylabel(\"TIC 0 autocorrelation\")\n",
    "plt.title(\"TIC 0 autocorrelations\")\n",
    "plt.xlabel(\"Lag time in s\")\n",
    "plt.legend();\n"
   ]
  },
  {
   "cell_type": "code",
   "execution_count": null,
   "id": "997448de",
   "metadata": {},
   "outputs": [],
   "source": [
    "# energies\n",
    "from simulation.md import (\n",
    "    get_simulation_environment,\n",
    "    compute_energy_and_forces,\n",
    "    compute_energy_and_forces_decomposition,\n",
    "    get_parameters_from_preset, \n",
    "    get_simulation_environment_integrator,\n",
    "    get_simulation_environment_for_force\n",
    ")\n",
    "import torch\n",
    "from timewarp.utils.openmm import OpenmmPotentialEnergyTorch\n",
    "\n",
    "simulation = get_simulation_environment(state0pdbpath, parameters)\n",
    "integrator = get_simulation_environment_integrator(parameters)\n",
    "system = simulation.system\n",
    "\n",
    "openmm_potential_energy_torch = OpenmmPotentialEnergyTorch(system, integrator, platform_name='CUDA')\n",
    "\n",
    "\n",
    "\n",
    "energies_model = openmm_potential_energy_torch(torch.from_numpy(traj_model.xyz[::10]))\n",
    "traj_energy = npz['energies'][::5, 0]\n",
    "\n",
    "plt.figure(figsize=(12, 6))\n",
    "plt.hist(\n",
    "    traj_energy,\n",
    "    bins=100,\n",
    "    density=True,\n",
    "    label=\"MD\",\n",
    "    histtype='step',\n",
    "    linewidth=5,\n",
    "    #range=lims,\n",
    "    #alpha=0.5,\n",
    ")\n",
    "\n",
    "plt.hist(\n",
    "    energies_model_exp,\n",
    "    bins=100,\n",
    "    density=True,\n",
    "    label=f\"Exploration\",\n",
    "    histtype='step',\n",
    "    #range=lims,\n",
    "    #linestyle='-.',\n",
    "    linewidth=5,\n",
    "    #alpha=0.5,\n",
    ")\n",
    "plt.hist(\n",
    "    energies_model.cpu().numpy().flatten(),\n",
    "    bins=100,\n",
    "    density=True,\n",
    "    label=f\"MCMC\",\n",
    "    histtype='step',\n",
    "    linestyle='-',\n",
    "    #range=lims,\n",
    "    linewidth=5,\n",
    "    #alpha=0.5,\n",
    ")\n",
    "plt.title(\"Energy distribution\")\n",
    "plt.xlabel(\"Energy in kJ/mol\")\n",
    "plt.legend();\n"
   ]
  },
  {
   "cell_type": "code",
   "execution_count": null,
   "id": "dd1dd699",
   "metadata": {},
   "outputs": [],
   "source": [
    "from scipy.spatial import distance\n",
    "\n",
    "\n",
    "distance.cdist(tics[::10, :2],tics_model[::10, :2]).min(axis=1).max()"
   ]
  },
  {
   "cell_type": "code",
   "execution_count": null,
   "id": "570a3943",
   "metadata": {},
   "outputs": [],
   "source": [
    "ranges = np.abs(tics[::10, :2]).max(0)\n",
    "distance.cdist(tics[::10, :2]/ranges,tics_model[::10, :2]/ranges).min(axis=1).max()"
   ]
  },
  {
   "cell_type": "code",
   "execution_count": null,
   "id": "450fdaa8",
   "metadata": {},
   "outputs": [],
   "source": [
    "assert False"
   ]
  },
  {
   "attachments": {},
   "cell_type": "markdown",
   "id": "0653a38b",
   "metadata": {},
   "source": [
    "## Presentation figures"
   ]
  },
  {
   "cell_type": "code",
   "execution_count": null,
   "id": "f15a499b",
   "metadata": {},
   "outputs": [],
   "source": [
    "model_exp_time_per_step = time/10000"
   ]
  },
  {
   "cell_type": "code",
   "execution_count": null,
   "id": "bdf068b9",
   "metadata": {},
   "outputs": [],
   "source": [
    "fig, axs = plt.subplots(3, 1, figsize=(12, 9), sharey=True, sharex=True)\n",
    "sampling_time_md = np.arange(len(tics)) * md_time_per_step * num_md_steps / 3600\n",
    "sampling_time_model = np.arange(len(tics_model)) * model_time_per_step * 10 /3600\n",
    "sampling_time_model_exp = np.arange(len(tics_model_exp)) * model_exp_time_per_step/3600\n",
    "\n",
    "max_time = min(sampling_time_md[-1],sampling_time_model[-1], 1.5)\n",
    "axs[0].plot(sampling_time_md[sampling_time_md<max_time], tics[sampling_time_md<max_time, 0], linewidth=.1)\n",
    "axs[1].plot(sampling_time_model[sampling_time_model<max_time], tics_model[sampling_time_model<max_time, 0], linewidth=.1)\n",
    "axs[2].plot(sampling_time_model_exp[sampling_time_model_exp<max_time], tics_model_exp[sampling_time_model_exp<max_time, 0], linewidth=.1)\n",
    "\n",
    "axs[2].set_xlabel(\"Wall-clock sampling time in h\")\n",
    "axs[1].set_ylabel(\"TIC 0\")\n",
    "axs[0].set_ylabel(\"TIC 0\")\n",
    "axs[0].set_title(\"MD\")\n",
    "axs[1].set_title(\"model\")\n"
   ]
  },
  {
   "cell_type": "code",
   "execution_count": null,
   "id": "4c9d8106",
   "metadata": {},
   "outputs": [],
   "source": [
    "fig, axs = plt.subplots(3, 1, figsize=(12, 9), sharey=True, sharex=True)\n",
    "sampling_time_md = np.arange(len(tics)) * md_time_per_step * num_md_steps / 3600\n",
    "sampling_time_model = np.arange(len(tics_model)) * model_time_per_step * 10 /3600\n",
    "sampling_time_model_exp = np.arange(len(tics_model_exp)) * model_exp_time_per_step/3600\n",
    "\n",
    "max_time = min(sampling_time_md[-1],sampling_time_model[-1], .5)\n",
    "axs[0].plot(sampling_time_md[sampling_time_md<max_time], tics[sampling_time_md<max_time, 1], linewidth=.1)\n",
    "axs[1].plot(sampling_time_model[sampling_time_model<max_time], tics_model[sampling_time_model<max_time, 1], linewidth=.1)\n",
    "axs[2].plot(sampling_time_model_exp[sampling_time_model_exp<max_time], tics_model_exp[sampling_time_model_exp<max_time, 1], linewidth=.1)\n",
    "\n",
    "axs[2].set_xlabel(\"Wall-clock sampling time in h\")\n",
    "axs[1].set_ylabel(\"TIC 0\")\n",
    "axs[0].set_ylabel(\"TIC 0\")\n",
    "axs[0].set_title(\"MD\")\n",
    "axs[1].set_title(\"model\")\n"
   ]
  },
  {
   "cell_type": "code",
   "execution_count": null,
   "id": "bb65f9df",
   "metadata": {},
   "outputs": [],
   "source": [
    "%matplotlib notebook"
   ]
  },
  {
   "cell_type": "code",
   "execution_count": null,
   "id": "c2217aac",
   "metadata": {},
   "outputs": [],
   "source": [
    "def plot_tic01_background(ax, tics, tics_lims=tics, cmap='viridis'):\n",
    "    _ = ax.hist2d(tics[:,0], tics[:,1], bins=100, norm=LogNorm(), cmap=cmap, rasterized=True)\n",
    "\n",
    "    ax.set_ylim(tics_lims[:,1].min(),tics_lims[:,1].max())\n",
    "    ax.set_xlim(tics_lims[:,0].min(),tics_lims[:,0].max())\n"
   ]
  },
  {
   "cell_type": "code",
   "execution_count": null,
   "id": "297f63c8",
   "metadata": {},
   "outputs": [],
   "source": [
    "fig, ax = plt.subplots(figsize=(4,4))\n",
    "ax.set_ylim(tics[:,1].min(),tics[:,1].max())\n",
    "ax.set_xlim(tics[:,0].min(),tics[:,0].max())\n",
    "ax.set_xticks([])\n",
    "ax.set_yticks([])\n",
    "plot_tic01_background(ax, tics_model_exp, tics)\n",
    "plt.savefig(base_dir+f\"outputs/figures/4AA-model-backgorund-{protein}.svg\", bbox_inches = \"tight\")"
   ]
  },
  {
   "cell_type": "code",
   "execution_count": null,
   "id": "7c1fcff6",
   "metadata": {},
   "outputs": [],
   "source": [
    "fig, ax = plt.subplots(figsize=(4,4))\n",
    "ax.set_ylim(tics[:,1].min(),tics[:,1].max())\n",
    "ax.set_xlim(tics[:,0].min(),tics[:,0].max())\n",
    "ax.set_xticks([])\n",
    "ax.set_yticks([])\n",
    "plot_tic01_background(ax, tics_model_exp, tics)\n",
    "plt.savefig(base_dir+f\"outputs/figures/4AA-model-backgorund-{protein}.svg\", bbox_inches = \"tight\")"
   ]
  },
  {
   "cell_type": "code",
   "execution_count": null,
   "id": "07fe6c86",
   "metadata": {},
   "outputs": [],
   "source": [
    "fig, ax = plt.subplots(figsize=(4,4))\n",
    "ax.set_ylim(tics[:,1].min(),tics[:,1].max())\n",
    "ax.set_xlim(tics[:,0].min(),tics[:,0].max())\n",
    "ax.set_xticks([])\n",
    "ax.set_yticks([])\n",
    "plot_tic01_background(ax, tics_model, tics)\n",
    "plt.savefig(base_dir+f\"outputs/figures/4AA-model-backgorund-{protein}-model.svg\", bbox_inches = \"tight\")"
   ]
  },
  {
   "cell_type": "code",
   "execution_count": null,
   "id": "94068f4c",
   "metadata": {},
   "outputs": [],
   "source": [
    "fig, ax = plt.subplots(figsize=(4,4))\n",
    "ax.set_ylim(tics[:,1].min(),tics[:,1].max())\n",
    "ax.set_xlim(tics[:,0].min(),tics[:,0].max())\n",
    "ax.set_xticks([])\n",
    "ax.set_yticks([])\n",
    "plot_tic01_background(ax, tics, tics)\n",
    "plt.savefig(base_dir+f\"outputs/figures/4AA-md-backgorund-{protein}.svg\", bbox_inches = \"tight\")"
   ]
  },
  {
   "cell_type": "code",
   "execution_count": null,
   "id": "5b3c8d9c",
   "metadata": {},
   "outputs": [],
   "source": [
    "#num_tics_model = len(tics_model[sampling_time_model<max_time])\n",
    "md_sapcing = 10\n",
    "tics_model_short = tics_model_exp[sampling_time_model_exp<max_time][2::10][:-53]\n",
    "tics_short = tics[sampling_time_md<max_time][::md_sapcing]\n",
    "num_tics_short = len(tics_short)"
   ]
  },
  {
   "cell_type": "code",
   "execution_count": null,
   "id": "1abd5fb0",
   "metadata": {},
   "outputs": [],
   "source": [
    "#num_tics_model = len(tics_model[sampling_time_model<max_time])\n",
    "md_sapcing = 10\n",
    "tics_model_short = tics_model[sampling_time_model<max_time][2::19][:-30]\n"
   ]
  },
  {
   "cell_type": "code",
   "execution_count": null,
   "id": "e3e17b41",
   "metadata": {},
   "outputs": [],
   "source": [
    "len(tics_model_short), num_tics_short"
   ]
  },
  {
   "cell_type": "code",
   "execution_count": null,
   "id": "de63e408",
   "metadata": {},
   "outputs": [],
   "source": [
    "tics_model_short[:, 2].var(0)"
   ]
  },
  {
   "cell_type": "code",
   "execution_count": null,
   "id": "94b26952",
   "metadata": {},
   "outputs": [],
   "source": [
    "fig, ax = plt.subplots(figsize=(4,4))\n",
    "ax.set_ylim(tics[:,1].min(),tics[:,1].max())\n",
    "ax.set_xlim(tics[:,0].min(),tics[:,0].max())\n",
    "ax.set_xticks([])\n",
    "ax.set_yticks([])\n",
    "ax.scatter(tics_model_short[:, 0], tics_model_short[:, 1], c=\"C1\", alpha=0.85)\n",
    "ax.plot(tics_model_short[:, 0], tics_model_short[:, 1], c=\"C1\", alpha=0.85)\n",
    "plt.savefig(base_dir+f\"outputs/figures/Transitions-final-{protein}-model-exp.svg\", bbox_inches = \"tight\")"
   ]
  },
  {
   "cell_type": "code",
   "execution_count": null,
   "id": "3e189ee1",
   "metadata": {},
   "outputs": [],
   "source": [
    "fig, ax = plt.subplots(figsize=(4,4))\n",
    "ax.set_ylim(tics[:,1].min(),tics[:,1].max())\n",
    "ax.set_xlim(tics[:,0].min(),tics[:,0].max())\n",
    "ax.set_xticks([])\n",
    "ax.set_yticks([])\n",
    "ax.scatter(tics_short[:, 0], tics_short[:, 1], c=\"C0\", alpha=0.85)\n",
    "ax.plot(tics_short[:, 0], tics_short[:, 1], c=\"C0\", alpha=0.85)\n",
    "plt.savefig(base_dir+f\"outputs/figures/Transitions-final-{protein}-md.svg\", bbox_inches = \"tight\")"
   ]
  },
  {
   "cell_type": "code",
   "execution_count": null,
   "id": "da76a1ab",
   "metadata": {},
   "outputs": [],
   "source": [
    "\n",
    "import matplotlib.animation as animation\n",
    "import numpy as np\n",
    "import itertools \n",
    "\n",
    "\n",
    "fig, ax = plt.subplots(figsize=(4,4))\n",
    "ax.set_ylim(tics[:,1].min(),tics[:,1].max())\n",
    "ax.set_xlim(tics[:,0].min(),tics[:,0].max())\n",
    "ax.set_xticks([])\n",
    "ax.set_yticks([])\n",
    "#ax.set_xlabel(\"TIC 0\")\n",
    "#ax.set_ylabel(\"TIC 1\")\n",
    "#ax.set_title(\"MD\")\n",
    "#ax.set_title(\"Timewarp\")\n",
    "#plot_tic01_background(ax, tics_model, tics)\n",
    "ax.scatter(tics_model_short[0, 0], tics_model_short[0, 1], c=\"C1\", alpha=0.5)\n",
    "\n",
    "def update(i):\n",
    "    #ax.clear()\n",
    "    ax.scatter(tics_model_short[i+1, 0], tics_model_short[i+1, 1], c=\"C1\", alpha=0.85)\n",
    "    ax.plot(tics_model_short[i:i+2, 0], tics_model_short[i:i+2, 1], c=\"C1\", alpha=0.85)\n",
    "    #ax.set_xlim(-2, frames+2)\n",
    "    #ax.set_ylim(min(y) - 1, max(y) + 1)\n",
    "\n",
    "ani = animation.FuncAnimation(fig, update, frames=len(tics_model_short)-1, interval=50)\n",
    "ani.save(base_dir+f\"outputs/figures/Transitions-{protein}-model.gif\", writer='pillow')\n",
    "plt.show()\n",
    "len(tics_model_short)\n"
   ]
  },
  {
   "cell_type": "code",
   "execution_count": null,
   "id": "83d1639d",
   "metadata": {},
   "outputs": [],
   "source": [
    "np.where(tics_model_short[:, 0]<-3)"
   ]
  },
  {
   "cell_type": "code",
   "execution_count": null,
   "id": "99cb37c8",
   "metadata": {},
   "outputs": [],
   "source": [
    "\n",
    "import matplotlib.animation as animation\n",
    "import numpy as np\n",
    "import itertools \n",
    "\n",
    "\n",
    "\n",
    "fig, ax = plt.subplots(figsize=(4,4))\n",
    "ax.set_ylim(tics[:,1].min(),tics[:,1].max())\n",
    "ax.set_xlim(tics[:,0].min(),tics[:,0].max())\n",
    "ax.set_xticks([])\n",
    "ax.set_yticks([])\n",
    "#ax.set_xlabel(\"TIC 0\")\n",
    "#ax.set_ylabel(\"TIC 1\")\n",
    "#ax.set_title(\"MD\")\n",
    "#ax.set_title(\"MD\")\n",
    "#plot_tic01_background(ax, tics, tics)\n",
    "ax.scatter(tics_short[0, 0], tics_short[0, 1], alpha=0.5, c=\"C0\")\n",
    "\n",
    "def update(i):\n",
    "    #ax.clear()\n",
    "    ax.scatter(tics_short[i+1, 0], tics_short[i+1, 1], alpha=0.85, c=\"C0\")\n",
    "    ax.plot(tics_short[i:i+2, 0], tics_short[i:i+2, 1], alpha=0.85, c=\"C0\")\n",
    "    #ax.set_xlim(-2, frames+2)\n",
    "    #ax.set_ylim(min(y) - 1, max(y) + 1)\n",
    "\n",
    "ani = animation.FuncAnimation(fig, update, frames=len(tics_short)-1, interval=100)\n",
    "ani.save(base_dir+f\"outputs/figures/Transitions-{protein}-MD.gif\", writer='pillow')\n",
    "\n",
    "plt.show()\n",
    "len(tics_short)\n"
   ]
  },
  {
   "cell_type": "code",
   "execution_count": null,
   "id": "d5511919",
   "metadata": {},
   "outputs": [],
   "source": [
    "trajectory_exploration = model_npz[\"positions\"]\n",
    "traj_model_exp = md.Trajectory(\n",
    "    xyz=trajectory_exploration,\n",
    "    topology=topology\n",
    ")"
   ]
  },
  {
   "cell_type": "code",
   "execution_count": null,
   "id": "9919bc9d",
   "metadata": {},
   "outputs": [],
   "source": [
    "\n",
    "#indices = np.where(labels_md==4)[0]\n",
    "indices = np.arange(len(tics_model_exp))[sampling_time_model_exp<max_time][2::10][:-53][::2]\n",
    "select_model = traj_model_exp.slice(indices)\n",
    "\n",
    "import nglview as nv\n",
    "w = nv.show_mdtraj(select_model.superpose(trajectory,2000))\n",
    "#w = nv.show_mdtraj(select)\n",
    "\n",
    "w.clear_representations()\n",
    "w.add_ball_and_stick()\n",
    "#w.add_cartoon()\n",
    "w"
   ]
  },
  {
   "cell_type": "code",
   "execution_count": null,
   "id": "e9079c50",
   "metadata": {},
   "outputs": [],
   "source": [
    "\n",
    "#indices = np.where(labels_md==4)[0]\n",
    "indices = np.arange(len(tics_model))[sampling_time_model<max_time][2::19][:-30][::2]\n",
    "select_model = traj_model.slice(indices)\n",
    "\n",
    "import nglview as nv\n",
    "w = nv.show_mdtraj(select_model.superpose(trajectory,2000))\n",
    "#w = nv.show_mdtraj(select)\n",
    "\n",
    "w.clear_representations()\n",
    "w.add_ball_and_stick()\n",
    "w.add_cartoon()\n",
    "w"
   ]
  },
  {
   "cell_type": "code",
   "execution_count": null,
   "id": "28753294",
   "metadata": {},
   "outputs": [],
   "source": [
    "#indices = np.where(labels_md==4)[0]\n",
    "indices = np.arange(len(tics))[sampling_time_md<max_time][::md_sapcing]\n",
    "select = trajectory.slice(indices)\n",
    "\n",
    "import nglview as nv\n",
    "w = nv.show_mdtraj(select.superpose(trajectory,2000))\n",
    "#w = nv.show_mdtraj(select)\n",
    "\n",
    "w.clear_representations()\n",
    "w.add_ball_and_stick()\n",
    "w.add_cartoon()\n",
    "w"
   ]
  },
  {
   "cell_type": "code",
   "execution_count": null,
   "id": "ee9cedb8",
   "metadata": {},
   "outputs": [],
   "source": [
    "from time import sleep\n",
    "\n",
    "for frame in range(0, len(indices)):\n",
    "    # set frame to update coordinates\n",
    "    w.frame = frame\n",
    "    # make sure to let NGL spending enough time to update coordinates\n",
    "    sleep(0.5)\n",
    "    w.download_image(filename=f'model_{protein}-image-{frame:03d}.png')\n",
    "    # make sure to let NGL spending enough time to render before going to next frame\n",
    "    sleep(1.0)"
   ]
  },
  {
   "cell_type": "code",
   "execution_count": null,
   "id": "1de6196e",
   "metadata": {},
   "outputs": [],
   "source": []
  },
  {
   "cell_type": "code",
   "execution_count": null,
   "id": "91a21f9d",
   "metadata": {},
   "outputs": [],
   "source": []
  }
 ],
 "metadata": {
  "kernelspec": {
   "display_name": "Python 3 (ipykernel)",
   "language": "python",
   "name": "python3"
  },
  "language_info": {
   "codemirror_mode": {
    "name": "ipython",
    "version": 3
   },
   "file_extension": ".py",
   "mimetype": "text/x-python",
   "name": "python",
   "nbconvert_exporter": "python",
   "pygments_lexer": "ipython3",
   "version": "3.8.10"
  },
  "vscode": {
   "interpreter": {
    "hash": "ad0a90f981e1a0e68b5789e8477a7e9beeeffab81b7242fd14b49286ee6bbf6c"
   }
  }
 },
 "nbformat": 4,
 "nbformat_minor": 5
}
