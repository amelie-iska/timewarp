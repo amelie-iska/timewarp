{
 "cells": [
  {
   "cell_type": "markdown",
   "id": "e11ef221-44e4-4a8c-b0c2-a4fa633914cf",
   "metadata": {
    "pycharm": {
     "name": "#%% md\n"
    },
    "tags": []
   },
   "source": [
    "# 3D Visualization with `atoms_viewer`"
   ]
  },
  {
   "cell_type": "markdown",
   "id": "8c2544c3-baf1-4b44-821a-b2cd37caaa68",
   "metadata": {
    "pycharm": {
     "name": "#%% md\n"
    }
   },
   "source": [
    "`atoms_viewer` is a small Python wrapper for the JavaScript library [3Dmol.js](https://3dmol.csb.pitt.edu/index.html).\n",
    "With this wrapper, you can create custom 3D visualizations of proteins, molecules, and materials within a Jupyter notebook.\n",
    "In addition, you can download snapshots of your visualizations and generate animated PNGs.\n",
    "For more details, check out the demo below."
   ]
  },
  {
   "cell_type": "markdown",
   "id": "d2432767-9136-45f6-9f19-e03ddc0ee3d8",
   "metadata": {
    "pycharm": {
     "name": "#%% md\n"
    }
   },
   "source": [
    "On a high level, this wrapper allows you to call JavaScript functions from within your Jupyter notebook to manipulate the `3Dmol.js` viewer object `GLViewer` documented [here](https://3dmol.csb.pitt.edu/doc/\\$3Dmol.GLViewer.html). \n",
    "In particular, the `queue` method (see below), allows you to call any method of the `GLViewer` [object](https://3dmol.csb.pitt.edu/doc/\\$3Dmol.GLViewer.html).\n",
    "\n",
    "First, let's load the package. This step loads all required JavaScript libraries."
   ]
  },
  {
   "cell_type": "code",
   "execution_count": null,
   "id": "e2c33a0c-b877-4fb6-ae50-ccb4a632c03c",
   "metadata": {
    "pycharm": {
     "is_executing": true,
     "name": "#%%\n"
    }
   },
   "outputs": [],
   "source": [
    "import atoms_viewer\n",
    "\n",
    "from atoms_viewer import AtomsViewer"
   ]
  },
  {
   "cell_type": "markdown",
   "id": "6838ed43-12b0-4da2-aa92-7a215c1e32d8",
   "metadata": {},
   "source": [
    "Don't forget to run `init()` to initialize the library."
   ]
  },
  {
   "cell_type": "code",
   "execution_count": null,
   "id": "c7cfe91c-1061-4dab-ba39-543ba098627b",
   "metadata": {},
   "outputs": [],
   "source": [
    "atoms_viewer.init()"
   ]
  },
  {
   "cell_type": "markdown",
   "id": "8dda3e1b-3325-4ff3-af10-c3903ccdc1c1",
   "metadata": {
    "pycharm": {
     "name": "#%% md\n"
    }
   },
   "source": [
    "## Getting Started"
   ]
  },
  {
   "cell_type": "markdown",
   "id": "d35d07d6-e679-46bc-a2d5-45db5b130011",
   "metadata": {
    "pycharm": {
     "name": "#%% md\n"
    }
   },
   "source": [
    "Let's load the PDB file of a small protein called crambin."
   ]
  },
  {
   "cell_type": "code",
   "execution_count": null,
   "id": "1dff8079-2bc4-42f1-b64f-0a7082673aff",
   "metadata": {
    "pycharm": {
     "name": "#%%\n"
    }
   },
   "outputs": [],
   "source": [
    "with open(\"resources/3nir.pdb\", 'r') as f:\n",
    "    pdb = f.read()"
   ]
  },
  {
   "cell_type": "markdown",
   "id": "d191a205-839b-42b6-9657-8601fb1bad60",
   "metadata": {
    "pycharm": {
     "name": "#%% md\n"
    }
   },
   "source": [
    "Next, we can visualize the protein in a \"cartoon\"-sh style."
   ]
  },
  {
   "cell_type": "code",
   "execution_count": null,
   "id": "116281d2-0d44-4841-a4ee-d1ec4454e108",
   "metadata": {
    "pycharm": {
     "name": "#%%\n"
    }
   },
   "outputs": [],
   "source": [
    "# Instantiating AtomsViewer object\n",
    "pv = AtomsViewer()\n",
    "\n",
    "# Configure canvas\n",
    "pv.create(style={'width': '500px', 'height': '500px'}, config={'backgroundAlpha': 1.0})\n",
    "\n",
    "# Add model by passing the PDB file content and a format specification\n",
    "pv.queue('addModel', pdb, 'pdb')\n",
    "\n",
    "# Set the visualization style. To select all atoms, put an emptry dictionary as the first argument\n",
    "pv.queue('setStyle', {}, {'cartoon': {'color': 'spectrum'}})\n",
    "\n",
    "# Put protein into focus\n",
    "pv.queue('zoomTo')\n",
    "\n",
    "# Don't forget to tell the library to render your scene\n",
    "pv.queue('render')\n",
    "\n",
    "# Process queue of \"statements\"\n",
    "pv.process()"
   ]
  },
  {
   "cell_type": "markdown",
   "id": "2ff6f67d-3394-4ec3-be75-1c94ef6120cf",
   "metadata": {
    "pycharm": {
     "name": "#%% md\n"
    }
   },
   "source": [
    "You can update the scene later.\n",
    "For instance, we can add a Van der Waals surface with the [addSurface](https://3dmol.csb.pitt.edu/doc/$3Dmol.GLViewer.html#addSurface) function."
   ]
  },
  {
   "cell_type": "code",
   "execution_count": null,
   "id": "476774e4-6682-4637-bd8c-d5556414da96",
   "metadata": {
    "pycharm": {
     "name": "#%%\n"
    }
   },
   "outputs": [],
   "source": [
    "# Surface=1 is the vdW surface\n",
    "pv.queue('addSurface', 1, {'opacity': 0.7, 'color': 'white'})\n",
    "pv.queue('render')\n",
    "code = pv.process(debug=True)"
   ]
  },
  {
   "cell_type": "markdown",
   "id": "d06fc6de-370b-43df-8fee-c4a27802aa92",
   "metadata": {
    "pycharm": {
     "name": "#%% md\n"
    }
   },
   "source": [
    "To see how that worked, let's have a look at the generated code."
   ]
  },
  {
   "cell_type": "code",
   "execution_count": null,
   "id": "92fcf8e3-680b-4eac-9c04-b774c987328b",
   "metadata": {
    "pycharm": {
     "name": "#%%\n"
    },
    "tags": []
   },
   "outputs": [],
   "source": [
    "print(code)"
   ]
  },
  {
   "cell_type": "markdown",
   "id": "acd8020c-29c9-4b86-a547-d2aa44b077cc",
   "metadata": {
    "pycharm": {
     "name": "#%% md\n"
    }
   },
   "source": [
    "Once your happy with the visualization and orientation, you can save it as a PNG."
   ]
  },
  {
   "cell_type": "code",
   "execution_count": null,
   "id": "bf0d0939-1109-48cd-a528-fc6f8bc2af64",
   "metadata": {
    "pycharm": {
     "name": "#%%\n"
    },
    "tags": []
   },
   "outputs": [],
   "source": [
    "pv.download_png('3nir.png')\n",
    "pv.process()"
   ]
  },
  {
   "cell_type": "markdown",
   "id": "e960fc17-39e3-49e5-ad3d-b2a6d8f0cfdb",
   "metadata": {
    "pycharm": {
     "name": "#%% md\n"
    }
   },
   "source": [
    "## Crystals"
   ]
  },
  {
   "cell_type": "markdown",
   "id": "861d066c-6009-422f-9dab-bd216886f183",
   "metadata": {
    "pycharm": {
     "name": "#%% md\n"
    }
   },
   "source": [
    "With `3Dmol.js` you can also visualize crystal structures."
   ]
  },
  {
   "cell_type": "code",
   "execution_count": null,
   "id": "687747e9-dd5b-4eb5-ac3a-e9200f46bbad",
   "metadata": {
    "pycharm": {
     "name": "#%%\n"
    }
   },
   "outputs": [],
   "source": [
    "import ase.io\n",
    "import io\n",
    "\n",
    "cv = AtomsViewer()\n",
    "cv.create()\n",
    "\n",
    "with open('resources/gen_15_Li1_Ag1_S2_0.cif') as f:\n",
    "    cv.queue('addModel', f.read(), 'cif')\n",
    "\n",
    "cv.queue('addUnitCell')\n",
    "cv.queue('setStyle', {}, {'sphere': {'radius': 0.5}})\n",
    "\n",
    "cv.queue('zoomTo')\n",
    "cv.queue('render')\n",
    "cv.process()"
   ]
  },
  {
   "cell_type": "markdown",
   "id": "d05e9163-b2d5-4422-8955-08d84c23149a",
   "metadata": {
    "pycharm": {
     "name": "#%% md\n"
    }
   },
   "source": [
    "## Interaction with IPython Widgets"
   ]
  },
  {
   "cell_type": "markdown",
   "id": "8c7a7510-b76c-4133-999c-17935b87a8d5",
   "metadata": {
    "pycharm": {
     "name": "#%% md\n"
    }
   },
   "source": [
    "Load a set of trajectories from the 3BPA dataset."
   ]
  },
  {
   "cell_type": "code",
   "execution_count": null,
   "id": "608a5af0-5d13-4879-9dfd-c612cac87887",
   "metadata": {
    "pycharm": {
     "name": "#%%\n"
    }
   },
   "outputs": [],
   "source": [
    "atoms_list = ase.io.read('resources/3bpa.xyz', index=':', format='extxyz')"
   ]
  },
  {
   "cell_type": "markdown",
   "id": "065a9b22-adb8-4b73-978f-a3fa287ebfac",
   "metadata": {
    "pycharm": {
     "name": "#%% md\n"
    }
   },
   "source": [
    "You can easily manipulate the scene with IPython widgets.\n",
    "For demonstration purposes, we colored the first and second atom purple."
   ]
  },
  {
   "cell_type": "code",
   "execution_count": null,
   "id": "f191035e-aae0-449e-b30b-a678d571969a",
   "metadata": {
    "pycharm": {
     "name": "#%%\n"
    }
   },
   "outputs": [],
   "source": [
    "import ipywidgets\n",
    "from IPython.display import display\n",
    "\n",
    "# Create viewer\n",
    "av = AtomsViewer()\n",
    "av.create()\n",
    "av.process()\n",
    "\n",
    "# Create GUI\n",
    "slider = ipywidgets.IntSlider(value=0, min=0, max=len(atoms_list) - 1, step=1, description='Index:')\n",
    "check_box1 = ipywidgets.Checkbox(value=False, description='Show forces', indent=True)\n",
    "check_box2 = ipywidgets.Checkbox(value=False, description='Show labels', indent=True)\n",
    "ui = ipywidgets.VBox([slider, check_box1, check_box2])\n",
    "\n",
    "def callback(idx: int, show_forces: bool, show_labels: bool) -> None:\n",
    "    av.remove_all()\n",
    "    \n",
    "    f = io.StringIO()\n",
    "    ase.io.write(f, atoms_list[idx], format='xyz')\n",
    "    av.queue('addModel', f.getvalue(), 'xyz')\n",
    "    \n",
    "    av.queue('setStyle', {}, {'stick': {}})\n",
    "    av.queue('addStyle', {}, {'sphere': {'scale': 0.3}})\n",
    "    \n",
    "    # Color 0th and 1st atom\n",
    "    av.queue('addStyle', {'serial': [0, 1]}, {'sphere': {'color': 'purple'}})\n",
    "\n",
    "    if show_forces:\n",
    "        av.add_arrows(positions=atoms_list[idx].arrays['positions'], vectors=0.9 * atoms_list[idx].arrays['forces'])\n",
    "    \n",
    "    if show_labels:\n",
    "        for i in range(len(atoms_list[idx])):\n",
    "            av.queue('addLabel', str(i), {}, {'serial': i})\n",
    "    \n",
    "    av.queue('render')\n",
    "    av.process()\n",
    "\n",
    "out = ipywidgets.interactive_output(callback, {'idx': slider, 'show_forces': check_box1, 'show_labels': check_box2})\n",
    "av.queue('zoomTo')\n",
    "av.process()\n",
    "display(ui, out)"
   ]
  },
  {
   "cell_type": "markdown",
   "id": "262f0760-811f-4b96-b312-39c2a285fb70",
   "metadata": {
    "pycharm": {
     "name": "#%% md\n"
    }
   },
   "source": [
    "## Generating Animated PNGs"
   ]
  },
  {
   "cell_type": "markdown",
   "id": "888ea30a-8cb7-4bdd-844a-d2965f43ed92",
   "metadata": {
    "pycharm": {
     "name": "#%% md\n"
    }
   },
   "source": [
    "With the `take_snapshot` and `download_apng` function, one can generate animated PNG (APNG) files."
   ]
  },
  {
   "cell_type": "code",
   "execution_count": null,
   "id": "7f2a9aba-c132-4baf-a81e-624933c6092f",
   "metadata": {
    "pycharm": {
     "name": "#%%\n"
    }
   },
   "outputs": [],
   "source": [
    "anv = AtomsViewer()\n",
    "anv.create(style={'width': '500px', 'height': '500px'})\n",
    "anv.queue('rotate', 45, {'x':1, 'y': 1, 'z': 1});\n",
    "\n",
    "for idx in range(len(atoms_list)):\n",
    "    anv.remove_all()\n",
    "    with io.StringIO() as f:\n",
    "        ase.io.write(f, atoms_list[idx], format='xyz')\n",
    "        anv.queue('addModel', f.getvalue(), 'xyz')\n",
    "    \n",
    "    anv.queue('setStyle', {}, {'stick': {}})\n",
    "    anv.queue('addStyle', {}, {'sphere': {'scale': 0.3}})\n",
    "    anv.add_arrows(positions=atoms_list[idx].arrays['positions'], vectors=0.9 * atoms_list[idx].arrays['forces'])\n",
    "    \n",
    "    anv.queue('render')\n",
    "    if idx == 0:\n",
    "        anv.queue('zoomTo')\n",
    "        \n",
    "    anv.take_snapshot()\n",
    "    anv.process()\n",
    "\n",
    "anv.download_apng('animated.png', delay=2000)\n",
    "anv.process()"
   ]
  },
  {
   "cell_type": "markdown",
   "id": "730a0517-2569-47c4-8f0a-0de19764e320",
   "metadata": {
    "pycharm": {
     "name": "#%% md\n"
    }
   },
   "source": [
    "Open the generated file with your browser or simply include it here to the atoms wiggle.\n",
    "with e.g.,\n",
    "\n",
    "`<img src=\"<PATH>/animated.png\" style=\"height:200px;width:200px\" />`"
   ]
  },
  {
   "cell_type": "markdown",
   "id": "e7d8b828-347c-4951-9eef-d89d6b0827e8",
   "metadata": {
    "pycharm": {
     "name": "#%% md\n"
    },
    "tags": []
   },
   "source": [
    "## Debugging"
   ]
  },
  {
   "cell_type": "markdown",
   "id": "62d03b4a-a806-491c-8eca-63b318bdbddb",
   "metadata": {
    "pycharm": {
     "name": "#%% md\n"
    }
   },
   "source": [
    "To better understand what is going on underneath the hood, pass `debug=True` to the process method. This way, the functions returns the HTML code that is passed to the IPython session. Together with the `dry_run=True` option, you ensure that the code is not actually being run."
   ]
  },
  {
   "cell_type": "code",
   "execution_count": null,
   "id": "af70dca4-3a84-4087-a844-8d11775bc4fa",
   "metadata": {
    "pycharm": {
     "name": "#%%\n"
    }
   },
   "outputs": [],
   "source": [
    "pv.remove_all()\n",
    "pv.queue('render')\n",
    "print(pv.process(debug=True, dry_run=True))"
   ]
  }
 ],
 "metadata": {
  "kernelspec": {
   "display_name": "Python 3 (ipykernel)",
   "language": "python",
   "name": "python3"
  },
  "language_info": {
   "codemirror_mode": {
    "name": "ipython",
    "version": 3
   },
   "file_extension": ".py",
   "mimetype": "text/x-python",
   "name": "python",
   "nbconvert_exporter": "python",
   "pygments_lexer": "ipython3",
   "version": "3.7.10"
  }
 },
 "nbformat": 4,
 "nbformat_minor": 5
}
